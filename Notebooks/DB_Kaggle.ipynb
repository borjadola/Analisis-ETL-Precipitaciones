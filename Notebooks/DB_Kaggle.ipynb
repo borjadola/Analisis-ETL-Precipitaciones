{
 "cells": [
  {
   "cell_type": "code",
   "execution_count": 1,
   "id": "896e9398",
   "metadata": {},
   "outputs": [],
   "source": [
    "import pandas as pd\n",
    "import numpy as np\n",
    "import warnings\n",
    "import regex as re\n",
    "warnings.filterwarnings('ignore')\n",
    "pd.set_option('display.max_columns', None)"
   ]
  },
  {
   "cell_type": "code",
   "execution_count": 2,
   "id": "2f27532a",
   "metadata": {},
   "outputs": [],
   "source": [
    "tabla_k = pd.read_csv('../data/esp_municipios_20200518.csv')"
   ]
  },
  {
   "cell_type": "code",
   "execution_count": 3,
   "id": "4d34ef5b",
   "metadata": {},
   "outputs": [
    {
     "data": {
      "text/html": [
       "<div>\n",
       "<style scoped>\n",
       "    .dataframe tbody tr th:only-of-type {\n",
       "        vertical-align: middle;\n",
       "    }\n",
       "\n",
       "    .dataframe tbody tr th {\n",
       "        vertical-align: top;\n",
       "    }\n",
       "\n",
       "    .dataframe thead th {\n",
       "        text-align: right;\n",
       "    }\n",
       "</style>\n",
       "<table border=\"1\" class=\"dataframe\">\n",
       "  <thead>\n",
       "    <tr style=\"text-align: right;\">\n",
       "      <th></th>\n",
       "      <th>CODIGO_CA</th>\n",
       "      <th>COMUNIDAD_AUTONOMA</th>\n",
       "      <th>Codigo Provincia</th>\n",
       "      <th>PROVINCIA</th>\n",
       "      <th>NUMERO_INSCRIPCION</th>\n",
       "      <th>Codigo Municipio</th>\n",
       "      <th>DENOMINACION</th>\n",
       "      <th>FECHA_INSCRIPCION</th>\n",
       "      <th>SUPERFICIE</th>\n",
       "      <th>HABITANTES</th>\n",
       "      <th>DENSIDAD</th>\n",
       "      <th>CAPITALIDAD</th>\n",
       "      <th>ANOTACION</th>\n",
       "    </tr>\n",
       "  </thead>\n",
       "  <tbody>\n",
       "    <tr>\n",
       "      <th>0</th>\n",
       "      <td>1</td>\n",
       "      <td>Andalucía</td>\n",
       "      <td>13385</td>\n",
       "      <td>Almería</td>\n",
       "      <td>1040010</td>\n",
       "      <td>5517</td>\n",
       "      <td>Abla</td>\n",
       "      <td>16/02/87</td>\n",
       "      <td>45,24</td>\n",
       "      <td>1249</td>\n",
       "      <td>27,61</td>\n",
       "      <td>Abla</td>\n",
       "      <td></td>\n",
       "    </tr>\n",
       "    <tr>\n",
       "      <th>1</th>\n",
       "      <td>1</td>\n",
       "      <td>Andalucía</td>\n",
       "      <td>13385</td>\n",
       "      <td>Almería</td>\n",
       "      <td>1040025</td>\n",
       "      <td>5518</td>\n",
       "      <td>Abrucena</td>\n",
       "      <td>22/04/87</td>\n",
       "      <td>83,68</td>\n",
       "      <td>1202</td>\n",
       "      <td>14,36</td>\n",
       "      <td>Abrucena</td>\n",
       "      <td></td>\n",
       "    </tr>\n",
       "    <tr>\n",
       "      <th>2</th>\n",
       "      <td>1</td>\n",
       "      <td>Andalucía</td>\n",
       "      <td>13385</td>\n",
       "      <td>Almería</td>\n",
       "      <td>1040031</td>\n",
       "      <td>5519</td>\n",
       "      <td>Adra</td>\n",
       "      <td>13/11/86</td>\n",
       "      <td>89,69</td>\n",
       "      <td>25148</td>\n",
       "      <td>280,39</td>\n",
       "      <td>Adra</td>\n",
       "      <td></td>\n",
       "    </tr>\n",
       "    <tr>\n",
       "      <th>3</th>\n",
       "      <td>1</td>\n",
       "      <td>Andalucía</td>\n",
       "      <td>13385</td>\n",
       "      <td>Almería</td>\n",
       "      <td>1040046</td>\n",
       "      <td>5520</td>\n",
       "      <td>Albanchez</td>\n",
       "      <td>22/04/87</td>\n",
       "      <td>34,91</td>\n",
       "      <td>741</td>\n",
       "      <td>21,23</td>\n",
       "      <td>Albanchez</td>\n",
       "      <td>\\n \\n</td>\n",
       "    </tr>\n",
       "    <tr>\n",
       "      <th>4</th>\n",
       "      <td>1</td>\n",
       "      <td>Andalucía</td>\n",
       "      <td>13385</td>\n",
       "      <td>Almería</td>\n",
       "      <td>1040059</td>\n",
       "      <td>5521</td>\n",
       "      <td>Alboloduy</td>\n",
       "      <td>19/01/87</td>\n",
       "      <td>69,73</td>\n",
       "      <td>616</td>\n",
       "      <td>8,83</td>\n",
       "      <td>Alboloduy</td>\n",
       "      <td></td>\n",
       "    </tr>\n",
       "  </tbody>\n",
       "</table>\n",
       "</div>"
      ],
      "text/plain": [
       "   CODIGO_CA COMUNIDAD_AUTONOMA  Codigo Provincia PROVINCIA  \\\n",
       "0          1          Andalucía             13385   Almería   \n",
       "1          1          Andalucía             13385   Almería   \n",
       "2          1          Andalucía             13385   Almería   \n",
       "3          1          Andalucía             13385   Almería   \n",
       "4          1          Andalucía             13385   Almería   \n",
       "\n",
       "   NUMERO_INSCRIPCION  Codigo Municipio DENOMINACION FECHA_INSCRIPCION  \\\n",
       "0             1040010              5517         Abla          16/02/87   \n",
       "1             1040025              5518     Abrucena          22/04/87   \n",
       "2             1040031              5519         Adra          13/11/86   \n",
       "3             1040046              5520    Albanchez          22/04/87   \n",
       "4             1040059              5521    Alboloduy          19/01/87   \n",
       "\n",
       "  SUPERFICIE  HABITANTES DENSIDAD CAPITALIDAD ANOTACION  \n",
       "0      45,24        1249    27,61        Abla            \n",
       "1      83,68        1202    14,36    Abrucena            \n",
       "2      89,69       25148   280,39        Adra            \n",
       "3      34,91         741    21,23   Albanchez    \\n \\n   \n",
       "4      69,73         616     8,83   Alboloduy            "
      ]
     },
     "execution_count": 3,
     "metadata": {},
     "output_type": "execute_result"
    }
   ],
   "source": [
    "tabla_k.head()"
   ]
  },
  {
   "cell_type": "code",
   "execution_count": 4,
   "id": "229a6b16",
   "metadata": {},
   "outputs": [
    {
     "data": {
      "text/plain": [
       "(8132, 13)"
      ]
     },
     "execution_count": 4,
     "metadata": {},
     "output_type": "execute_result"
    }
   ],
   "source": [
    "tabla_k.shape"
   ]
  },
  {
   "cell_type": "code",
   "execution_count": 5,
   "id": "04ff1c73",
   "metadata": {},
   "outputs": [
    {
     "name": "stdout",
     "output_type": "stream",
     "text": [
      "<class 'pandas.core.frame.DataFrame'>\n",
      "RangeIndex: 8132 entries, 0 to 8131\n",
      "Data columns (total 13 columns):\n",
      " #   Column              Non-Null Count  Dtype \n",
      "---  ------              --------------  ----- \n",
      " 0   CODIGO_CA           8132 non-null   int64 \n",
      " 1   COMUNIDAD_AUTONOMA  8132 non-null   object\n",
      " 2   Codigo Provincia    8132 non-null   int64 \n",
      " 3   PROVINCIA           8132 non-null   object\n",
      " 4   NUMERO_INSCRIPCION  8132 non-null   int64 \n",
      " 5   Codigo Municipio    8132 non-null   int64 \n",
      " 6   DENOMINACION        8132 non-null   object\n",
      " 7   FECHA_INSCRIPCION   8132 non-null   object\n",
      " 8   SUPERFICIE          8132 non-null   object\n",
      " 9   HABITANTES          8132 non-null   int64 \n",
      " 10  DENSIDAD            8132 non-null   object\n",
      " 11  CAPITALIDAD         8132 non-null   object\n",
      " 12  ANOTACION           8132 non-null   object\n",
      "dtypes: int64(5), object(8)\n",
      "memory usage: 826.0+ KB\n"
     ]
    }
   ],
   "source": [
    "tabla_k.info()"
   ]
  },
  {
   "cell_type": "code",
   "execution_count": 6,
   "id": "c6be8208",
   "metadata": {},
   "outputs": [
    {
     "name": "stdout",
     "output_type": "stream",
     "text": [
      "CODIGO_CA             0\n",
      "COMUNIDAD_AUTONOMA    0\n",
      "Codigo Provincia      0\n",
      "PROVINCIA             0\n",
      "NUMERO_INSCRIPCION    0\n",
      "Codigo Municipio      0\n",
      "DENOMINACION          0\n",
      "FECHA_INSCRIPCION     0\n",
      "SUPERFICIE            0\n",
      "HABITANTES            0\n",
      "DENSIDAD              0\n",
      "CAPITALIDAD           0\n",
      "ANOTACION             0\n",
      "dtype: int64\n"
     ]
    }
   ],
   "source": [
    "print(tabla_k.isnull().sum())"
   ]
  },
  {
   "cell_type": "markdown",
   "id": "40943e3d",
   "metadata": {},
   "source": [
    "vamos a filtrar la tabla_k para quedarnos solo con las filas de las provincia de nuestra muestra"
   ]
  },
  {
   "cell_type": "code",
   "execution_count": 7,
   "id": "8a8928fc",
   "metadata": {},
   "outputs": [],
   "source": [
    "muestra_provincias = ['Almería', 'A Coruña', 'Huelva', 'Cádiz', 'Girona']"
   ]
  },
  {
   "cell_type": "code",
   "execution_count": 8,
   "id": "19db3d86",
   "metadata": {},
   "outputs": [],
   "source": [
    "tabla_muestra = tabla_k[tabla_k['PROVINCIA'].isin(muestra_provincias)]"
   ]
  },
  {
   "cell_type": "code",
   "execution_count": 9,
   "id": "95b66a70",
   "metadata": {},
   "outputs": [],
   "source": [
    "tabla_muestra.columns = [c.lower().strip().replace(' ', '_') for c in tabla_muestra.columns]\n",
    "#modificamos el nombre de las columnas para trabajar con ellas con mayor facilidad"
   ]
  },
  {
   "cell_type": "code",
   "execution_count": 10,
   "id": "a0f0fc24",
   "metadata": {},
   "outputs": [
    {
     "data": {
      "text/html": [
       "<div>\n",
       "<style scoped>\n",
       "    .dataframe tbody tr th:only-of-type {\n",
       "        vertical-align: middle;\n",
       "    }\n",
       "\n",
       "    .dataframe tbody tr th {\n",
       "        vertical-align: top;\n",
       "    }\n",
       "\n",
       "    .dataframe thead th {\n",
       "        text-align: right;\n",
       "    }\n",
       "</style>\n",
       "<table border=\"1\" class=\"dataframe\">\n",
       "  <thead>\n",
       "    <tr style=\"text-align: right;\">\n",
       "      <th></th>\n",
       "      <th>codigo_ca</th>\n",
       "      <th>comunidad_autonoma</th>\n",
       "      <th>codigo_provincia</th>\n",
       "      <th>provincia</th>\n",
       "      <th>numero_inscripcion</th>\n",
       "      <th>codigo_municipio</th>\n",
       "      <th>denominacion</th>\n",
       "      <th>fecha_inscripcion</th>\n",
       "      <th>superficie</th>\n",
       "      <th>habitantes</th>\n",
       "      <th>densidad</th>\n",
       "      <th>capitalidad</th>\n",
       "      <th>anotacion</th>\n",
       "    </tr>\n",
       "  </thead>\n",
       "  <tbody>\n",
       "    <tr>\n",
       "      <th>0</th>\n",
       "      <td>1</td>\n",
       "      <td>Andalucía</td>\n",
       "      <td>13385</td>\n",
       "      <td>Almería</td>\n",
       "      <td>1040010</td>\n",
       "      <td>5517</td>\n",
       "      <td>Abla</td>\n",
       "      <td>16/02/87</td>\n",
       "      <td>45,24</td>\n",
       "      <td>1249</td>\n",
       "      <td>27,61</td>\n",
       "      <td>Abla</td>\n",
       "      <td></td>\n",
       "    </tr>\n",
       "    <tr>\n",
       "      <th>1</th>\n",
       "      <td>1</td>\n",
       "      <td>Andalucía</td>\n",
       "      <td>13385</td>\n",
       "      <td>Almería</td>\n",
       "      <td>1040025</td>\n",
       "      <td>5518</td>\n",
       "      <td>Abrucena</td>\n",
       "      <td>22/04/87</td>\n",
       "      <td>83,68</td>\n",
       "      <td>1202</td>\n",
       "      <td>14,36</td>\n",
       "      <td>Abrucena</td>\n",
       "      <td></td>\n",
       "    </tr>\n",
       "    <tr>\n",
       "      <th>2</th>\n",
       "      <td>1</td>\n",
       "      <td>Andalucía</td>\n",
       "      <td>13385</td>\n",
       "      <td>Almería</td>\n",
       "      <td>1040031</td>\n",
       "      <td>5519</td>\n",
       "      <td>Adra</td>\n",
       "      <td>13/11/86</td>\n",
       "      <td>89,69</td>\n",
       "      <td>25148</td>\n",
       "      <td>280,39</td>\n",
       "      <td>Adra</td>\n",
       "      <td></td>\n",
       "    </tr>\n",
       "    <tr>\n",
       "      <th>3</th>\n",
       "      <td>1</td>\n",
       "      <td>Andalucía</td>\n",
       "      <td>13385</td>\n",
       "      <td>Almería</td>\n",
       "      <td>1040046</td>\n",
       "      <td>5520</td>\n",
       "      <td>Albanchez</td>\n",
       "      <td>22/04/87</td>\n",
       "      <td>34,91</td>\n",
       "      <td>741</td>\n",
       "      <td>21,23</td>\n",
       "      <td>Albanchez</td>\n",
       "      <td>\\n \\n</td>\n",
       "    </tr>\n",
       "    <tr>\n",
       "      <th>4</th>\n",
       "      <td>1</td>\n",
       "      <td>Andalucía</td>\n",
       "      <td>13385</td>\n",
       "      <td>Almería</td>\n",
       "      <td>1040059</td>\n",
       "      <td>5521</td>\n",
       "      <td>Alboloduy</td>\n",
       "      <td>19/01/87</td>\n",
       "      <td>69,73</td>\n",
       "      <td>616</td>\n",
       "      <td>8,83</td>\n",
       "      <td>Alboloduy</td>\n",
       "      <td></td>\n",
       "    </tr>\n",
       "    <tr>\n",
       "      <th>...</th>\n",
       "      <td>...</td>\n",
       "      <td>...</td>\n",
       "      <td>...</td>\n",
       "      <td>...</td>\n",
       "      <td>...</td>\n",
       "      <td>...</td>\n",
       "      <td>...</td>\n",
       "      <td>...</td>\n",
       "      <td>...</td>\n",
       "      <td>...</td>\n",
       "      <td>...</td>\n",
       "      <td>...</td>\n",
       "      <td>...</td>\n",
       "    </tr>\n",
       "    <tr>\n",
       "      <th>5546</th>\n",
       "      <td>9</td>\n",
       "      <td>Cataluña</td>\n",
       "      <td>13416</td>\n",
       "      <td>Girona</td>\n",
       "      <td>1172288</td>\n",
       "      <td>7900</td>\n",
       "      <td>Vilanant</td>\n",
       "      <td>30/04/87</td>\n",
       "      <td>16,85</td>\n",
       "      <td>392</td>\n",
       "      <td>23,26</td>\n",
       "      <td>Vilanant</td>\n",
       "      <td></td>\n",
       "    </tr>\n",
       "    <tr>\n",
       "      <th>5547</th>\n",
       "      <td>9</td>\n",
       "      <td>Cataluña</td>\n",
       "      <td>13416</td>\n",
       "      <td>Girona</td>\n",
       "      <td>1172305</td>\n",
       "      <td>7901</td>\n",
       "      <td>Vila-sacra</td>\n",
       "      <td>09/02/87</td>\n",
       "      <td>6,05</td>\n",
       "      <td>760</td>\n",
       "      <td>125,62</td>\n",
       "      <td>Vila-sacra</td>\n",
       "      <td></td>\n",
       "    </tr>\n",
       "    <tr>\n",
       "      <th>5548</th>\n",
       "      <td>9</td>\n",
       "      <td>Cataluña</td>\n",
       "      <td>13416</td>\n",
       "      <td>Girona</td>\n",
       "      <td>1172229</td>\n",
       "      <td>7894</td>\n",
       "      <td>Vilaür</td>\n",
       "      <td>01/10/86</td>\n",
       "      <td>5,83</td>\n",
       "      <td>157</td>\n",
       "      <td>26,93</td>\n",
       "      <td>Vilaür</td>\n",
       "      <td></td>\n",
       "    </tr>\n",
       "    <tr>\n",
       "      <th>5549</th>\n",
       "      <td>9</td>\n",
       "      <td>Cataluña</td>\n",
       "      <td>13416</td>\n",
       "      <td>Girona</td>\n",
       "      <td>1172333</td>\n",
       "      <td>7903</td>\n",
       "      <td>Vilobí d'Onyar</td>\n",
       "      <td>11/09/86</td>\n",
       "      <td>32,62</td>\n",
       "      <td>3291</td>\n",
       "      <td>100,89</td>\n",
       "      <td>Vilobí d'Onyar</td>\n",
       "      <td></td>\n",
       "    </tr>\n",
       "    <tr>\n",
       "      <th>5550</th>\n",
       "      <td>9</td>\n",
       "      <td>Cataluña</td>\n",
       "      <td>13416</td>\n",
       "      <td>Girona</td>\n",
       "      <td>1172327</td>\n",
       "      <td>7902</td>\n",
       "      <td>Vilopriu</td>\n",
       "      <td>01/09/86</td>\n",
       "      <td>16,61</td>\n",
       "      <td>202</td>\n",
       "      <td>12,16</td>\n",
       "      <td>Vilopriu</td>\n",
       "      <td></td>\n",
       "    </tr>\n",
       "  </tbody>\n",
       "</table>\n",
       "<p>450 rows × 13 columns</p>\n",
       "</div>"
      ],
      "text/plain": [
       "      codigo_ca comunidad_autonoma  codigo_provincia provincia  \\\n",
       "0             1          Andalucía             13385   Almería   \n",
       "1             1          Andalucía             13385   Almería   \n",
       "2             1          Andalucía             13385   Almería   \n",
       "3             1          Andalucía             13385   Almería   \n",
       "4             1          Andalucía             13385   Almería   \n",
       "...         ...                ...               ...       ...   \n",
       "5546          9           Cataluña             13416    Girona   \n",
       "5547          9           Cataluña             13416    Girona   \n",
       "5548          9           Cataluña             13416    Girona   \n",
       "5549          9           Cataluña             13416    Girona   \n",
       "5550          9           Cataluña             13416    Girona   \n",
       "\n",
       "      numero_inscripcion  codigo_municipio    denominacion fecha_inscripcion  \\\n",
       "0                1040010              5517            Abla          16/02/87   \n",
       "1                1040025              5518        Abrucena          22/04/87   \n",
       "2                1040031              5519            Adra          13/11/86   \n",
       "3                1040046              5520       Albanchez          22/04/87   \n",
       "4                1040059              5521       Alboloduy          19/01/87   \n",
       "...                  ...               ...             ...               ...   \n",
       "5546             1172288              7900        Vilanant          30/04/87   \n",
       "5547             1172305              7901      Vila-sacra          09/02/87   \n",
       "5548             1172229              7894          Vilaür          01/10/86   \n",
       "5549             1172333              7903  Vilobí d'Onyar          11/09/86   \n",
       "5550             1172327              7902        Vilopriu          01/09/86   \n",
       "\n",
       "     superficie  habitantes densidad     capitalidad anotacion  \n",
       "0         45,24        1249    27,61            Abla            \n",
       "1         83,68        1202    14,36        Abrucena            \n",
       "2         89,69       25148   280,39            Adra            \n",
       "3         34,91         741    21,23       Albanchez    \\n \\n   \n",
       "4         69,73         616     8,83       Alboloduy            \n",
       "...         ...         ...      ...             ...       ...  \n",
       "5546      16,85         392    23,26        Vilanant            \n",
       "5547       6,05         760   125,62      Vila-sacra            \n",
       "5548       5,83         157    26,93          Vilaür            \n",
       "5549      32,62        3291   100,89  Vilobí d'Onyar            \n",
       "5550      16,61         202    12,16        Vilopriu            \n",
       "\n",
       "[450 rows x 13 columns]"
      ]
     },
     "execution_count": 10,
     "metadata": {},
     "output_type": "execute_result"
    }
   ],
   "source": [
    "tabla_muestra"
   ]
  },
  {
   "cell_type": "code",
   "execution_count": 11,
   "id": "921ace3e",
   "metadata": {},
   "outputs": [
    {
     "data": {
      "text/plain": [
       "Index(['codigo_ca', 'comunidad_autonoma', 'codigo_provincia', 'provincia',\n",
       "       'numero_inscripcion', 'codigo_municipio', 'denominacion',\n",
       "       'fecha_inscripcion', 'superficie', 'habitantes', 'densidad',\n",
       "       'capitalidad', 'anotacion'],\n",
       "      dtype='object')"
      ]
     },
     "execution_count": 11,
     "metadata": {},
     "output_type": "execute_result"
    }
   ],
   "source": [
    "tabla_muestra.columns"
   ]
  },
  {
   "cell_type": "code",
   "execution_count": 12,
   "id": "418e3f6f",
   "metadata": {},
   "outputs": [],
   "source": [
    "tabla_muestra = tabla_muestra.drop(['codigo_ca', 'numero_inscripcion', 'codigo_municipio', 'denominacion', \n",
    "                                    'fecha_inscripcion', 'densidad','capitalidad', 'anotacion'], axis=1)\n",
    "#borramos las columnas que no necesitamos para trabajar en nuestro estudio"
   ]
  },
  {
   "cell_type": "code",
   "execution_count": 13,
   "id": "76c0becf",
   "metadata": {},
   "outputs": [
    {
     "data": {
      "text/html": [
       "<div>\n",
       "<style scoped>\n",
       "    .dataframe tbody tr th:only-of-type {\n",
       "        vertical-align: middle;\n",
       "    }\n",
       "\n",
       "    .dataframe tbody tr th {\n",
       "        vertical-align: top;\n",
       "    }\n",
       "\n",
       "    .dataframe thead th {\n",
       "        text-align: right;\n",
       "    }\n",
       "</style>\n",
       "<table border=\"1\" class=\"dataframe\">\n",
       "  <thead>\n",
       "    <tr style=\"text-align: right;\">\n",
       "      <th></th>\n",
       "      <th>comunidad_autonoma</th>\n",
       "      <th>codigo_provincia</th>\n",
       "      <th>provincia</th>\n",
       "      <th>superficie</th>\n",
       "      <th>habitantes</th>\n",
       "    </tr>\n",
       "  </thead>\n",
       "  <tbody>\n",
       "    <tr>\n",
       "      <th>0</th>\n",
       "      <td>Andalucía</td>\n",
       "      <td>13385</td>\n",
       "      <td>Almería</td>\n",
       "      <td>45,24</td>\n",
       "      <td>1249</td>\n",
       "    </tr>\n",
       "    <tr>\n",
       "      <th>1</th>\n",
       "      <td>Andalucía</td>\n",
       "      <td>13385</td>\n",
       "      <td>Almería</td>\n",
       "      <td>83,68</td>\n",
       "      <td>1202</td>\n",
       "    </tr>\n",
       "    <tr>\n",
       "      <th>2</th>\n",
       "      <td>Andalucía</td>\n",
       "      <td>13385</td>\n",
       "      <td>Almería</td>\n",
       "      <td>89,69</td>\n",
       "      <td>25148</td>\n",
       "    </tr>\n",
       "    <tr>\n",
       "      <th>3</th>\n",
       "      <td>Andalucía</td>\n",
       "      <td>13385</td>\n",
       "      <td>Almería</td>\n",
       "      <td>34,91</td>\n",
       "      <td>741</td>\n",
       "    </tr>\n",
       "    <tr>\n",
       "      <th>4</th>\n",
       "      <td>Andalucía</td>\n",
       "      <td>13385</td>\n",
       "      <td>Almería</td>\n",
       "      <td>69,73</td>\n",
       "      <td>616</td>\n",
       "    </tr>\n",
       "  </tbody>\n",
       "</table>\n",
       "</div>"
      ],
      "text/plain": [
       "  comunidad_autonoma  codigo_provincia provincia superficie  habitantes\n",
       "0          Andalucía             13385   Almería      45,24        1249\n",
       "1          Andalucía             13385   Almería      83,68        1202\n",
       "2          Andalucía             13385   Almería      89,69       25148\n",
       "3          Andalucía             13385   Almería      34,91         741\n",
       "4          Andalucía             13385   Almería      69,73         616"
      ]
     },
     "execution_count": 13,
     "metadata": {},
     "output_type": "execute_result"
    }
   ],
   "source": [
    "tabla_muestra.head()"
   ]
  },
  {
   "cell_type": "code",
   "execution_count": 14,
   "id": "6f130c01",
   "metadata": {},
   "outputs": [
    {
     "data": {
      "text/html": [
       "<div>\n",
       "<style scoped>\n",
       "    .dataframe tbody tr th:only-of-type {\n",
       "        vertical-align: middle;\n",
       "    }\n",
       "\n",
       "    .dataframe tbody tr th {\n",
       "        vertical-align: top;\n",
       "    }\n",
       "\n",
       "    .dataframe thead th {\n",
       "        text-align: right;\n",
       "    }\n",
       "</style>\n",
       "<table border=\"1\" class=\"dataframe\">\n",
       "  <thead>\n",
       "    <tr style=\"text-align: right;\">\n",
       "      <th></th>\n",
       "      <th>comunidad_autonoma</th>\n",
       "      <th>codigo_provincia</th>\n",
       "      <th>provincia</th>\n",
       "      <th>superficie</th>\n",
       "      <th>habitantes</th>\n",
       "    </tr>\n",
       "  </thead>\n",
       "  <tbody>\n",
       "    <tr>\n",
       "      <th>0</th>\n",
       "      <td>Andalucía</td>\n",
       "      <td>13385</td>\n",
       "      <td>Almería</td>\n",
       "      <td>45.24</td>\n",
       "      <td>1249</td>\n",
       "    </tr>\n",
       "    <tr>\n",
       "      <th>1</th>\n",
       "      <td>Andalucía</td>\n",
       "      <td>13385</td>\n",
       "      <td>Almería</td>\n",
       "      <td>83.68</td>\n",
       "      <td>1202</td>\n",
       "    </tr>\n",
       "    <tr>\n",
       "      <th>2</th>\n",
       "      <td>Andalucía</td>\n",
       "      <td>13385</td>\n",
       "      <td>Almería</td>\n",
       "      <td>89.69</td>\n",
       "      <td>25148</td>\n",
       "    </tr>\n",
       "    <tr>\n",
       "      <th>3</th>\n",
       "      <td>Andalucía</td>\n",
       "      <td>13385</td>\n",
       "      <td>Almería</td>\n",
       "      <td>34.91</td>\n",
       "      <td>741</td>\n",
       "    </tr>\n",
       "    <tr>\n",
       "      <th>4</th>\n",
       "      <td>Andalucía</td>\n",
       "      <td>13385</td>\n",
       "      <td>Almería</td>\n",
       "      <td>69.73</td>\n",
       "      <td>616</td>\n",
       "    </tr>\n",
       "  </tbody>\n",
       "</table>\n",
       "</div>"
      ],
      "text/plain": [
       "  comunidad_autonoma  codigo_provincia provincia  superficie  habitantes\n",
       "0          Andalucía             13385   Almería       45.24        1249\n",
       "1          Andalucía             13385   Almería       83.68        1202\n",
       "2          Andalucía             13385   Almería       89.69       25148\n",
       "3          Andalucía             13385   Almería       34.91         741\n",
       "4          Andalucía             13385   Almería       69.73         616"
      ]
     },
     "execution_count": 14,
     "metadata": {},
     "output_type": "execute_result"
    }
   ],
   "source": [
    "tabla_muestra['superficie'] = tabla_muestra['superficie'].str.replace(',', '.').astype(float)\n",
    "\n",
    "\n",
    "tabla_muestra['habitantes'] = tabla_muestra['habitantes'].astype(int)\n",
    "\n",
    "# Convertimos 'superficie' a float para poder trabajar con ella y habitantes a int\n",
    "tabla_muestra.head()"
   ]
  },
  {
   "cell_type": "markdown",
   "id": "0d077738",
   "metadata": {},
   "source": [
    "ahora vamos a agrupar datos sumando los valores de superficie y habitante"
   ]
  },
  {
   "cell_type": "code",
   "execution_count": 18,
   "id": "a519becf",
   "metadata": {},
   "outputs": [
    {
     "data": {
      "text/plain": [
       "{'Almería': 8773.78, 'Cádiz': 7338.13, 'Girona': 5908.19, 'Huelva': 10185.66}"
      ]
     },
     "execution_count": 18,
     "metadata": {},
     "output_type": "execute_result"
    }
   ],
   "source": [
    "dict_superficie = tabla_muestra.groupby('provincia')['superficie'].sum().to_dict()\n",
    "dict_superficie"
   ]
  },
  {
   "cell_type": "code",
   "execution_count": 19,
   "id": "8008beee",
   "metadata": {},
   "outputs": [
    {
     "data": {
      "text/plain": [
       "{'Almería': 716820, 'Cádiz': 1240155, 'Girona': 771044, 'Huelva': 521870}"
      ]
     },
     "execution_count": 19,
     "metadata": {},
     "output_type": "execute_result"
    }
   ],
   "source": [
    "dict_habitantes = tabla_muestra.groupby('provincia')['habitantes'].sum().to_dict()\n",
    "dict_habitantes"
   ]
  },
  {
   "cell_type": "markdown",
   "id": "ef3877bf",
   "metadata": {},
   "source": [
    "Tenemos los valores totales por provincia de superficie y habitantes. ahora vamos a reducir nuestra tabla a una línea por provincia. borramos las columnas de superficie y habitantes y agrupamos todo primero por provincia."
   ]
  },
  {
   "cell_type": "code",
   "execution_count": 20,
   "id": "c4fdbea1",
   "metadata": {},
   "outputs": [],
   "source": [
    "tabla_muestra = tabla_muestra.drop(columns=['superficie', 'habitantes'])  "
   ]
  },
  {
   "cell_type": "code",
   "execution_count": 22,
   "id": "5889a168",
   "metadata": {},
   "outputs": [],
   "source": [
    "tabla_muestra = tabla_muestra.groupby('provincia').first().reset_index() \n",
    "#La función de agregación first(), agrupa por valor de columna, eligiendo el primer valor que se encuentra."
   ]
  },
  {
   "cell_type": "code",
   "execution_count": 23,
   "id": "5ddb6f53",
   "metadata": {},
   "outputs": [
    {
     "data": {
      "text/html": [
       "<div>\n",
       "<style scoped>\n",
       "    .dataframe tbody tr th:only-of-type {\n",
       "        vertical-align: middle;\n",
       "    }\n",
       "\n",
       "    .dataframe tbody tr th {\n",
       "        vertical-align: top;\n",
       "    }\n",
       "\n",
       "    .dataframe thead th {\n",
       "        text-align: right;\n",
       "    }\n",
       "</style>\n",
       "<table border=\"1\" class=\"dataframe\">\n",
       "  <thead>\n",
       "    <tr style=\"text-align: right;\">\n",
       "      <th></th>\n",
       "      <th>provincia</th>\n",
       "      <th>comunidad_autonoma</th>\n",
       "      <th>codigo_provincia</th>\n",
       "    </tr>\n",
       "  </thead>\n",
       "  <tbody>\n",
       "    <tr>\n",
       "      <th>0</th>\n",
       "      <td>Almería</td>\n",
       "      <td>Andalucía</td>\n",
       "      <td>13385</td>\n",
       "    </tr>\n",
       "    <tr>\n",
       "      <th>1</th>\n",
       "      <td>Cádiz</td>\n",
       "      <td>Andalucía</td>\n",
       "      <td>13386</td>\n",
       "    </tr>\n",
       "    <tr>\n",
       "      <th>2</th>\n",
       "      <td>Girona</td>\n",
       "      <td>Cataluña</td>\n",
       "      <td>13416</td>\n",
       "    </tr>\n",
       "    <tr>\n",
       "      <th>3</th>\n",
       "      <td>Huelva</td>\n",
       "      <td>Andalucía</td>\n",
       "      <td>13389</td>\n",
       "    </tr>\n",
       "  </tbody>\n",
       "</table>\n",
       "</div>"
      ],
      "text/plain": [
       "  provincia comunidad_autonoma  codigo_provincia\n",
       "0   Almería          Andalucía             13385\n",
       "1     Cádiz          Andalucía             13386\n",
       "2    Girona           Cataluña             13416\n",
       "3    Huelva          Andalucía             13389"
      ]
     },
     "execution_count": 23,
     "metadata": {},
     "output_type": "execute_result"
    }
   ],
   "source": [
    "tabla_muestra"
   ]
  },
  {
   "cell_type": "code",
   "execution_count": 24,
   "id": "6be7c748",
   "metadata": {},
   "outputs": [],
   "source": [
    "#Agrego los dos diccionarios que tengo en dos nuevas coliumnas.\n",
    "tabla_muestra['superficie_km2'] = tabla_muestra['provincia'].map(dict_superficie)\n",
    "tabla_muestra['habitantes'] = tabla_muestra['provincia'].map(dict_habitantes)"
   ]
  },
  {
   "cell_type": "code",
   "execution_count": 38,
   "id": "02df708e",
   "metadata": {},
   "outputs": [],
   "source": [
    "#Quiero crear una nueva columna para la densidad de población\n",
    "tabla_muestra['densidad'] = tabla_muestra.apply(lambda x: round(x['habitantes'] / x['superficie_km2'],2), axis=1)"
   ]
  },
  {
   "cell_type": "code",
   "execution_count": 39,
   "id": "d82149db",
   "metadata": {},
   "outputs": [
    {
     "data": {
      "text/plain": [
       "Index(['codigo_provincia', 'comunidad_autonoma', 'provincia', 'superficie_km2',\n",
       "       'habitantes', 'densidad'],\n",
       "      dtype='object')"
      ]
     },
     "execution_count": 39,
     "metadata": {},
     "output_type": "execute_result"
    }
   ],
   "source": [
    "tabla_muestra.columns"
   ]
  },
  {
   "cell_type": "code",
   "execution_count": 40,
   "id": "38b2fb77",
   "metadata": {},
   "outputs": [],
   "source": [
    "tabla_muestra = tabla_muestra[['codigo_provincia', 'comunidad_autonoma', 'provincia', \n",
    "                              'superficie_km2', 'habitantes', 'densidad']]"
   ]
  },
  {
   "cell_type": "code",
   "execution_count": 41,
   "id": "45bfbc0c",
   "metadata": {},
   "outputs": [
    {
     "data": {
      "text/html": [
       "<div>\n",
       "<style scoped>\n",
       "    .dataframe tbody tr th:only-of-type {\n",
       "        vertical-align: middle;\n",
       "    }\n",
       "\n",
       "    .dataframe tbody tr th {\n",
       "        vertical-align: top;\n",
       "    }\n",
       "\n",
       "    .dataframe thead th {\n",
       "        text-align: right;\n",
       "    }\n",
       "</style>\n",
       "<table border=\"1\" class=\"dataframe\">\n",
       "  <thead>\n",
       "    <tr style=\"text-align: right;\">\n",
       "      <th></th>\n",
       "      <th>codigo_provincia</th>\n",
       "      <th>comunidad_autonoma</th>\n",
       "      <th>provincia</th>\n",
       "      <th>superficie_km2</th>\n",
       "      <th>habitantes</th>\n",
       "      <th>densidad</th>\n",
       "    </tr>\n",
       "  </thead>\n",
       "  <tbody>\n",
       "    <tr>\n",
       "      <th>0</th>\n",
       "      <td>13385</td>\n",
       "      <td>Andalucía</td>\n",
       "      <td>Almería</td>\n",
       "      <td>8773.78</td>\n",
       "      <td>716820</td>\n",
       "      <td>81.70</td>\n",
       "    </tr>\n",
       "    <tr>\n",
       "      <th>1</th>\n",
       "      <td>13386</td>\n",
       "      <td>Andalucía</td>\n",
       "      <td>Cádiz</td>\n",
       "      <td>7338.13</td>\n",
       "      <td>1240155</td>\n",
       "      <td>169.00</td>\n",
       "    </tr>\n",
       "    <tr>\n",
       "      <th>2</th>\n",
       "      <td>13416</td>\n",
       "      <td>Cataluña</td>\n",
       "      <td>Girona</td>\n",
       "      <td>5908.19</td>\n",
       "      <td>771044</td>\n",
       "      <td>130.50</td>\n",
       "    </tr>\n",
       "    <tr>\n",
       "      <th>3</th>\n",
       "      <td>13389</td>\n",
       "      <td>Andalucía</td>\n",
       "      <td>Huelva</td>\n",
       "      <td>10185.66</td>\n",
       "      <td>521870</td>\n",
       "      <td>51.24</td>\n",
       "    </tr>\n",
       "  </tbody>\n",
       "</table>\n",
       "</div>"
      ],
      "text/plain": [
       "   codigo_provincia comunidad_autonoma provincia  superficie_km2  habitantes  \\\n",
       "0             13385          Andalucía   Almería         8773.78      716820   \n",
       "1             13386          Andalucía     Cádiz         7338.13     1240155   \n",
       "2             13416           Cataluña    Girona         5908.19      771044   \n",
       "3             13389          Andalucía    Huelva        10185.66      521870   \n",
       "\n",
       "   densidad  \n",
       "0     81.70  \n",
       "1    169.00  \n",
       "2    130.50  \n",
       "3     51.24  "
      ]
     },
     "execution_count": 41,
     "metadata": {},
     "output_type": "execute_result"
    }
   ],
   "source": [
    "tabla_muestra"
   ]
  },
  {
   "cell_type": "markdown",
   "id": "24c29d3f",
   "metadata": {},
   "source": [
    "Así queda nuestra tabla final. Solo queda guardarla en csv por ejemplo antes de subirla a SQL."
   ]
  },
  {
   "cell_type": "code",
   "execution_count": null,
   "id": "f84d1475",
   "metadata": {},
   "outputs": [],
   "source": []
  }
 ],
 "metadata": {
  "kernelspec": {
   "display_name": "Python 3 (ipykernel)",
   "language": "python",
   "name": "python3"
  },
  "language_info": {
   "codemirror_mode": {
    "name": "ipython",
    "version": 3
   },
   "file_extension": ".py",
   "mimetype": "text/x-python",
   "name": "python",
   "nbconvert_exporter": "python",
   "pygments_lexer": "ipython3",
   "version": "3.10.9"
  }
 },
 "nbformat": 4,
 "nbformat_minor": 5
}
