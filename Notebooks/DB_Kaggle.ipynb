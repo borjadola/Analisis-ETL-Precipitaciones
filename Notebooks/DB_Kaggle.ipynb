{
 "cells": [
  {
   "cell_type": "code",
   "execution_count": 12,
   "id": "6e055d1a",
   "metadata": {},
   "outputs": [],
   "source": [
    "import pandas as pd\n",
    "import numpy as np\n",
    "import warnings\n",
    "import regex as re\n",
    "warnings.filterwarnings('ignore')\n",
    "pd.set_option('display.max_columns', None)"
   ]
  },
  {
   "cell_type": "code",
   "execution_count": 13,
   "id": "c273a053",
   "metadata": {},
   "outputs": [],
   "source": [
    "tabla_k = pd.read_csv('../data/esp_municipios_20200518.csv')"
   ]
  },
  {
   "cell_type": "code",
   "execution_count": 18,
   "id": "895c45b3",
   "metadata": {},
   "outputs": [
    {
     "data": {
      "text/html": [
       "<div>\n",
       "<style scoped>\n",
       "    .dataframe tbody tr th:only-of-type {\n",
       "        vertical-align: middle;\n",
       "    }\n",
       "\n",
       "    .dataframe tbody tr th {\n",
       "        vertical-align: top;\n",
       "    }\n",
       "\n",
       "    .dataframe thead th {\n",
       "        text-align: right;\n",
       "    }\n",
       "</style>\n",
       "<table border=\"1\" class=\"dataframe\">\n",
       "  <thead>\n",
       "    <tr style=\"text-align: right;\">\n",
       "      <th></th>\n",
       "      <th>CODIGO_CA</th>\n",
       "      <th>COMUNIDAD_AUTONOMA</th>\n",
       "      <th>Codigo Provincia</th>\n",
       "      <th>PROVINCIA</th>\n",
       "      <th>NUMERO_INSCRIPCION</th>\n",
       "      <th>Codigo Municipio</th>\n",
       "      <th>DENOMINACION</th>\n",
       "      <th>FECHA_INSCRIPCION</th>\n",
       "      <th>SUPERFICIE</th>\n",
       "      <th>HABITANTES</th>\n",
       "      <th>DENSIDAD</th>\n",
       "      <th>CAPITALIDAD</th>\n",
       "      <th>ANOTACION</th>\n",
       "    </tr>\n",
       "  </thead>\n",
       "  <tbody>\n",
       "    <tr>\n",
       "      <th>0</th>\n",
       "      <td>1</td>\n",
       "      <td>Andalucía</td>\n",
       "      <td>13385</td>\n",
       "      <td>Almería</td>\n",
       "      <td>1040010</td>\n",
       "      <td>5517</td>\n",
       "      <td>Abla</td>\n",
       "      <td>16/02/87</td>\n",
       "      <td>45,24</td>\n",
       "      <td>1249</td>\n",
       "      <td>27,61</td>\n",
       "      <td>Abla</td>\n",
       "      <td></td>\n",
       "    </tr>\n",
       "    <tr>\n",
       "      <th>1</th>\n",
       "      <td>1</td>\n",
       "      <td>Andalucía</td>\n",
       "      <td>13385</td>\n",
       "      <td>Almería</td>\n",
       "      <td>1040025</td>\n",
       "      <td>5518</td>\n",
       "      <td>Abrucena</td>\n",
       "      <td>22/04/87</td>\n",
       "      <td>83,68</td>\n",
       "      <td>1202</td>\n",
       "      <td>14,36</td>\n",
       "      <td>Abrucena</td>\n",
       "      <td></td>\n",
       "    </tr>\n",
       "    <tr>\n",
       "      <th>2</th>\n",
       "      <td>1</td>\n",
       "      <td>Andalucía</td>\n",
       "      <td>13385</td>\n",
       "      <td>Almería</td>\n",
       "      <td>1040031</td>\n",
       "      <td>5519</td>\n",
       "      <td>Adra</td>\n",
       "      <td>13/11/86</td>\n",
       "      <td>89,69</td>\n",
       "      <td>25148</td>\n",
       "      <td>280,39</td>\n",
       "      <td>Adra</td>\n",
       "      <td></td>\n",
       "    </tr>\n",
       "    <tr>\n",
       "      <th>3</th>\n",
       "      <td>1</td>\n",
       "      <td>Andalucía</td>\n",
       "      <td>13385</td>\n",
       "      <td>Almería</td>\n",
       "      <td>1040046</td>\n",
       "      <td>5520</td>\n",
       "      <td>Albanchez</td>\n",
       "      <td>22/04/87</td>\n",
       "      <td>34,91</td>\n",
       "      <td>741</td>\n",
       "      <td>21,23</td>\n",
       "      <td>Albanchez</td>\n",
       "      <td>\\n \\n</td>\n",
       "    </tr>\n",
       "    <tr>\n",
       "      <th>4</th>\n",
       "      <td>1</td>\n",
       "      <td>Andalucía</td>\n",
       "      <td>13385</td>\n",
       "      <td>Almería</td>\n",
       "      <td>1040059</td>\n",
       "      <td>5521</td>\n",
       "      <td>Alboloduy</td>\n",
       "      <td>19/01/87</td>\n",
       "      <td>69,73</td>\n",
       "      <td>616</td>\n",
       "      <td>8,83</td>\n",
       "      <td>Alboloduy</td>\n",
       "      <td></td>\n",
       "    </tr>\n",
       "  </tbody>\n",
       "</table>\n",
       "</div>"
      ],
      "text/plain": [
       "   CODIGO_CA COMUNIDAD_AUTONOMA  Codigo Provincia PROVINCIA  \\\n",
       "0          1          Andalucía             13385   Almería   \n",
       "1          1          Andalucía             13385   Almería   \n",
       "2          1          Andalucía             13385   Almería   \n",
       "3          1          Andalucía             13385   Almería   \n",
       "4          1          Andalucía             13385   Almería   \n",
       "\n",
       "   NUMERO_INSCRIPCION  Codigo Municipio DENOMINACION FECHA_INSCRIPCION  \\\n",
       "0             1040010              5517         Abla          16/02/87   \n",
       "1             1040025              5518     Abrucena          22/04/87   \n",
       "2             1040031              5519         Adra          13/11/86   \n",
       "3             1040046              5520    Albanchez          22/04/87   \n",
       "4             1040059              5521    Alboloduy          19/01/87   \n",
       "\n",
       "  SUPERFICIE  HABITANTES DENSIDAD CAPITALIDAD ANOTACION  \n",
       "0      45,24        1249    27,61        Abla            \n",
       "1      83,68        1202    14,36    Abrucena            \n",
       "2      89,69       25148   280,39        Adra            \n",
       "3      34,91         741    21,23   Albanchez    \\n \\n   \n",
       "4      69,73         616     8,83   Alboloduy            "
      ]
     },
     "execution_count": 18,
     "metadata": {},
     "output_type": "execute_result"
    }
   ],
   "source": [
    "tabla_k.head()"
   ]
  },
  {
   "cell_type": "code",
   "execution_count": 15,
   "id": "c2b3a74d",
   "metadata": {},
   "outputs": [
    {
     "data": {
      "text/plain": [
       "(8132, 13)"
      ]
     },
     "execution_count": 15,
     "metadata": {},
     "output_type": "execute_result"
    }
   ],
   "source": [
    "tabla_k.shape"
   ]
  },
  {
   "cell_type": "code",
   "execution_count": null,
   "id": "9c4f3d4e",
   "metadata": {},
   "outputs": [],
   "source": []
  }
 ],
 "metadata": {
  "kernelspec": {
   "display_name": "Python 3 (ipykernel)",
   "language": "python",
   "name": "python3"
  },
  "language_info": {
   "codemirror_mode": {
    "name": "ipython",
    "version": 3
   },
   "file_extension": ".py",
   "mimetype": "text/x-python",
   "name": "python",
   "nbconvert_exporter": "python",
   "pygments_lexer": "ipython3",
   "version": "3.10.9"
  }
 },
 "nbformat": 4,
 "nbformat_minor": 5
}
