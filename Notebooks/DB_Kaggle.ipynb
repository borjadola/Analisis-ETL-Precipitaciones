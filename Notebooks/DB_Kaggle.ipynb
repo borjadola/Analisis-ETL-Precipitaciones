{
 "cells": [
  {
   "cell_type": "code",
   "execution_count": 1,
   "id": "0847536f",
   "metadata": {},
   "outputs": [],
   "source": [
    "import pandas as pd\n",
    "import numpy as np\n",
    "import warnings\n",
    "import regex as re\n",
    "warnings.filterwarnings('ignore')\n",
    "pd.set_option('display.max_columns', None)"
   ]
  },
  {
   "cell_type": "code",
   "execution_count": 2,
   "id": "b229b428",
   "metadata": {},
   "outputs": [],
   "source": [
    "tabla_k = pd.read_csv('../data/esp_municipios_20200518.csv')"
   ]
  },
  {
   "cell_type": "code",
   "execution_count": 3,
   "id": "be76b8c5",
   "metadata": {},
   "outputs": [
    {
     "data": {
      "text/html": [
       "<div>\n",
       "<style scoped>\n",
       "    .dataframe tbody tr th:only-of-type {\n",
       "        vertical-align: middle;\n",
       "    }\n",
       "\n",
       "    .dataframe tbody tr th {\n",
       "        vertical-align: top;\n",
       "    }\n",
       "\n",
       "    .dataframe thead th {\n",
       "        text-align: right;\n",
       "    }\n",
       "</style>\n",
       "<table border=\"1\" class=\"dataframe\">\n",
       "  <thead>\n",
       "    <tr style=\"text-align: right;\">\n",
       "      <th></th>\n",
       "      <th>CODIGO_CA</th>\n",
       "      <th>COMUNIDAD_AUTONOMA</th>\n",
       "      <th>Codigo Provincia</th>\n",
       "      <th>PROVINCIA</th>\n",
       "      <th>NUMERO_INSCRIPCION</th>\n",
       "      <th>Codigo Municipio</th>\n",
       "      <th>DENOMINACION</th>\n",
       "      <th>FECHA_INSCRIPCION</th>\n",
       "      <th>SUPERFICIE</th>\n",
       "      <th>HABITANTES</th>\n",
       "      <th>DENSIDAD</th>\n",
       "      <th>CAPITALIDAD</th>\n",
       "      <th>ANOTACION</th>\n",
       "    </tr>\n",
       "  </thead>\n",
       "  <tbody>\n",
       "    <tr>\n",
       "      <th>0</th>\n",
       "      <td>1</td>\n",
       "      <td>Andalucía</td>\n",
       "      <td>13385</td>\n",
       "      <td>Almería</td>\n",
       "      <td>1040010</td>\n",
       "      <td>5517</td>\n",
       "      <td>Abla</td>\n",
       "      <td>16/02/87</td>\n",
       "      <td>45,24</td>\n",
       "      <td>1249</td>\n",
       "      <td>27,61</td>\n",
       "      <td>Abla</td>\n",
       "      <td></td>\n",
       "    </tr>\n",
       "    <tr>\n",
       "      <th>1</th>\n",
       "      <td>1</td>\n",
       "      <td>Andalucía</td>\n",
       "      <td>13385</td>\n",
       "      <td>Almería</td>\n",
       "      <td>1040025</td>\n",
       "      <td>5518</td>\n",
       "      <td>Abrucena</td>\n",
       "      <td>22/04/87</td>\n",
       "      <td>83,68</td>\n",
       "      <td>1202</td>\n",
       "      <td>14,36</td>\n",
       "      <td>Abrucena</td>\n",
       "      <td></td>\n",
       "    </tr>\n",
       "    <tr>\n",
       "      <th>2</th>\n",
       "      <td>1</td>\n",
       "      <td>Andalucía</td>\n",
       "      <td>13385</td>\n",
       "      <td>Almería</td>\n",
       "      <td>1040031</td>\n",
       "      <td>5519</td>\n",
       "      <td>Adra</td>\n",
       "      <td>13/11/86</td>\n",
       "      <td>89,69</td>\n",
       "      <td>25148</td>\n",
       "      <td>280,39</td>\n",
       "      <td>Adra</td>\n",
       "      <td></td>\n",
       "    </tr>\n",
       "    <tr>\n",
       "      <th>3</th>\n",
       "      <td>1</td>\n",
       "      <td>Andalucía</td>\n",
       "      <td>13385</td>\n",
       "      <td>Almería</td>\n",
       "      <td>1040046</td>\n",
       "      <td>5520</td>\n",
       "      <td>Albanchez</td>\n",
       "      <td>22/04/87</td>\n",
       "      <td>34,91</td>\n",
       "      <td>741</td>\n",
       "      <td>21,23</td>\n",
       "      <td>Albanchez</td>\n",
       "      <td>\\n \\n</td>\n",
       "    </tr>\n",
       "    <tr>\n",
       "      <th>4</th>\n",
       "      <td>1</td>\n",
       "      <td>Andalucía</td>\n",
       "      <td>13385</td>\n",
       "      <td>Almería</td>\n",
       "      <td>1040059</td>\n",
       "      <td>5521</td>\n",
       "      <td>Alboloduy</td>\n",
       "      <td>19/01/87</td>\n",
       "      <td>69,73</td>\n",
       "      <td>616</td>\n",
       "      <td>8,83</td>\n",
       "      <td>Alboloduy</td>\n",
       "      <td></td>\n",
       "    </tr>\n",
       "  </tbody>\n",
       "</table>\n",
       "</div>"
      ],
      "text/plain": [
       "   CODIGO_CA COMUNIDAD_AUTONOMA  Codigo Provincia PROVINCIA  \\\n",
       "0          1          Andalucía             13385   Almería   \n",
       "1          1          Andalucía             13385   Almería   \n",
       "2          1          Andalucía             13385   Almería   \n",
       "3          1          Andalucía             13385   Almería   \n",
       "4          1          Andalucía             13385   Almería   \n",
       "\n",
       "   NUMERO_INSCRIPCION  Codigo Municipio DENOMINACION FECHA_INSCRIPCION  \\\n",
       "0             1040010              5517         Abla          16/02/87   \n",
       "1             1040025              5518     Abrucena          22/04/87   \n",
       "2             1040031              5519         Adra          13/11/86   \n",
       "3             1040046              5520    Albanchez          22/04/87   \n",
       "4             1040059              5521    Alboloduy          19/01/87   \n",
       "\n",
       "  SUPERFICIE  HABITANTES DENSIDAD CAPITALIDAD ANOTACION  \n",
       "0      45,24        1249    27,61        Abla            \n",
       "1      83,68        1202    14,36    Abrucena            \n",
       "2      89,69       25148   280,39        Adra            \n",
       "3      34,91         741    21,23   Albanchez    \\n \\n   \n",
       "4      69,73         616     8,83   Alboloduy            "
      ]
     },
     "execution_count": 3,
     "metadata": {},
     "output_type": "execute_result"
    }
   ],
   "source": [
    "tabla_k.head()"
   ]
  },
  {
   "cell_type": "code",
   "execution_count": 4,
   "id": "46eb3472",
   "metadata": {},
   "outputs": [
    {
     "data": {
      "text/plain": [
       "(8132, 13)"
      ]
     },
     "execution_count": 4,
     "metadata": {},
     "output_type": "execute_result"
    }
   ],
   "source": [
    "tabla_k.shape"
   ]
  },
  {
   "cell_type": "code",
   "execution_count": 5,
   "id": "2b942e87",
   "metadata": {},
   "outputs": [
    {
     "name": "stdout",
     "output_type": "stream",
     "text": [
      "<class 'pandas.core.frame.DataFrame'>\n",
      "RangeIndex: 8132 entries, 0 to 8131\n",
      "Data columns (total 13 columns):\n",
      " #   Column              Non-Null Count  Dtype \n",
      "---  ------              --------------  ----- \n",
      " 0   CODIGO_CA           8132 non-null   int64 \n",
      " 1   COMUNIDAD_AUTONOMA  8132 non-null   object\n",
      " 2   Codigo Provincia    8132 non-null   int64 \n",
      " 3   PROVINCIA           8132 non-null   object\n",
      " 4   NUMERO_INSCRIPCION  8132 non-null   int64 \n",
      " 5   Codigo Municipio    8132 non-null   int64 \n",
      " 6   DENOMINACION        8132 non-null   object\n",
      " 7   FECHA_INSCRIPCION   8132 non-null   object\n",
      " 8   SUPERFICIE          8132 non-null   object\n",
      " 9   HABITANTES          8132 non-null   int64 \n",
      " 10  DENSIDAD            8132 non-null   object\n",
      " 11  CAPITALIDAD         8132 non-null   object\n",
      " 12  ANOTACION           8132 non-null   object\n",
      "dtypes: int64(5), object(8)\n",
      "memory usage: 826.0+ KB\n"
     ]
    }
   ],
   "source": [
    "tabla_k.info()"
   ]
  },
  {
   "cell_type": "code",
   "execution_count": 6,
   "id": "bec2d289",
   "metadata": {},
   "outputs": [
    {
     "name": "stdout",
     "output_type": "stream",
     "text": [
      "CODIGO_CA             0\n",
      "COMUNIDAD_AUTONOMA    0\n",
      "Codigo Provincia      0\n",
      "PROVINCIA             0\n",
      "NUMERO_INSCRIPCION    0\n",
      "Codigo Municipio      0\n",
      "DENOMINACION          0\n",
      "FECHA_INSCRIPCION     0\n",
      "SUPERFICIE            0\n",
      "HABITANTES            0\n",
      "DENSIDAD              0\n",
      "CAPITALIDAD           0\n",
      "ANOTACION             0\n",
      "dtype: int64\n"
     ]
    }
   ],
   "source": [
    "print(tabla_k.isnull().sum())"
   ]
  },
  {
   "cell_type": "markdown",
   "id": "12f092ee",
   "metadata": {},
   "source": [
    "vamos a filtrar la tabla_k para quedarnos solo con las filas de las provincia de nuestra muestra"
   ]
  },
  {
   "cell_type": "code",
   "execution_count": 7,
   "id": "183634ff",
   "metadata": {},
   "outputs": [],
   "source": [
    "tabla_k['PROVINCIA'] = tabla_k['PROVINCIA'].replace('Coruña, A', 'A_Coruna')"
   ]
  },
  {
   "cell_type": "code",
   "execution_count": 8,
   "id": "1f4a06a5",
   "metadata": {},
   "outputs": [],
   "source": [
    "muestra_provincias = ['Almería', 'A_Coruna', 'Huelva', 'Cádiz', 'Girona']"
   ]
  },
  {
   "cell_type": "code",
   "execution_count": 9,
   "id": "25a77331",
   "metadata": {},
   "outputs": [],
   "source": [
    "tabla_muestra = tabla_k[tabla_k['PROVINCIA'].isin(muestra_provincias)]"
   ]
  },
  {
   "cell_type": "code",
   "execution_count": 10,
   "id": "fad42a72",
   "metadata": {},
   "outputs": [],
   "source": [
    "tabla_muestra.columns = [c.lower().strip().replace(' ', '_') for c in tabla_muestra.columns]\n",
    "#modificamos el nombre de las columnas para trabajar con ellas con mayor facilidad"
   ]
  },
  {
   "cell_type": "code",
   "execution_count": 11,
   "id": "fdd3ed77",
   "metadata": {},
   "outputs": [
    {
     "data": {
      "text/html": [
       "<div>\n",
       "<style scoped>\n",
       "    .dataframe tbody tr th:only-of-type {\n",
       "        vertical-align: middle;\n",
       "    }\n",
       "\n",
       "    .dataframe tbody tr th {\n",
       "        vertical-align: top;\n",
       "    }\n",
       "\n",
       "    .dataframe thead th {\n",
       "        text-align: right;\n",
       "    }\n",
       "</style>\n",
       "<table border=\"1\" class=\"dataframe\">\n",
       "  <thead>\n",
       "    <tr style=\"text-align: right;\">\n",
       "      <th></th>\n",
       "      <th>codigo_ca</th>\n",
       "      <th>comunidad_autonoma</th>\n",
       "      <th>codigo_provincia</th>\n",
       "      <th>provincia</th>\n",
       "      <th>numero_inscripcion</th>\n",
       "      <th>codigo_municipio</th>\n",
       "      <th>denominacion</th>\n",
       "      <th>fecha_inscripcion</th>\n",
       "      <th>superficie</th>\n",
       "      <th>habitantes</th>\n",
       "      <th>densidad</th>\n",
       "      <th>capitalidad</th>\n",
       "      <th>anotacion</th>\n",
       "    </tr>\n",
       "  </thead>\n",
       "  <tbody>\n",
       "    <tr>\n",
       "      <th>0</th>\n",
       "      <td>1</td>\n",
       "      <td>Andalucía</td>\n",
       "      <td>13385</td>\n",
       "      <td>Almería</td>\n",
       "      <td>1040010</td>\n",
       "      <td>5517</td>\n",
       "      <td>Abla</td>\n",
       "      <td>16/02/87</td>\n",
       "      <td>45,24</td>\n",
       "      <td>1249</td>\n",
       "      <td>27,61</td>\n",
       "      <td>Abla</td>\n",
       "      <td></td>\n",
       "    </tr>\n",
       "    <tr>\n",
       "      <th>1</th>\n",
       "      <td>1</td>\n",
       "      <td>Andalucía</td>\n",
       "      <td>13385</td>\n",
       "      <td>Almería</td>\n",
       "      <td>1040025</td>\n",
       "      <td>5518</td>\n",
       "      <td>Abrucena</td>\n",
       "      <td>22/04/87</td>\n",
       "      <td>83,68</td>\n",
       "      <td>1202</td>\n",
       "      <td>14,36</td>\n",
       "      <td>Abrucena</td>\n",
       "      <td></td>\n",
       "    </tr>\n",
       "    <tr>\n",
       "      <th>2</th>\n",
       "      <td>1</td>\n",
       "      <td>Andalucía</td>\n",
       "      <td>13385</td>\n",
       "      <td>Almería</td>\n",
       "      <td>1040031</td>\n",
       "      <td>5519</td>\n",
       "      <td>Adra</td>\n",
       "      <td>13/11/86</td>\n",
       "      <td>89,69</td>\n",
       "      <td>25148</td>\n",
       "      <td>280,39</td>\n",
       "      <td>Adra</td>\n",
       "      <td></td>\n",
       "    </tr>\n",
       "    <tr>\n",
       "      <th>3</th>\n",
       "      <td>1</td>\n",
       "      <td>Andalucía</td>\n",
       "      <td>13385</td>\n",
       "      <td>Almería</td>\n",
       "      <td>1040046</td>\n",
       "      <td>5520</td>\n",
       "      <td>Albanchez</td>\n",
       "      <td>22/04/87</td>\n",
       "      <td>34,91</td>\n",
       "      <td>741</td>\n",
       "      <td>21,23</td>\n",
       "      <td>Albanchez</td>\n",
       "      <td>\\n \\n</td>\n",
       "    </tr>\n",
       "    <tr>\n",
       "      <th>4</th>\n",
       "      <td>1</td>\n",
       "      <td>Andalucía</td>\n",
       "      <td>13385</td>\n",
       "      <td>Almería</td>\n",
       "      <td>1040059</td>\n",
       "      <td>5521</td>\n",
       "      <td>Alboloduy</td>\n",
       "      <td>19/01/87</td>\n",
       "      <td>69,73</td>\n",
       "      <td>616</td>\n",
       "      <td>8,83</td>\n",
       "      <td>Alboloduy</td>\n",
       "      <td></td>\n",
       "    </tr>\n",
       "    <tr>\n",
       "      <th>...</th>\n",
       "      <td>...</td>\n",
       "      <td>...</td>\n",
       "      <td>...</td>\n",
       "      <td>...</td>\n",
       "      <td>...</td>\n",
       "      <td>...</td>\n",
       "      <td>...</td>\n",
       "      <td>...</td>\n",
       "      <td>...</td>\n",
       "      <td>...</td>\n",
       "      <td>...</td>\n",
       "      <td>...</td>\n",
       "      <td>...</td>\n",
       "    </tr>\n",
       "    <tr>\n",
       "      <th>6984</th>\n",
       "      <td>12</td>\n",
       "      <td>Galicia</td>\n",
       "      <td>13424</td>\n",
       "      <td>A_Coruna</td>\n",
       "      <td>1150891</td>\n",
       "      <td>7443</td>\n",
       "      <td>Vedra</td>\n",
       "      <td>26/01/87</td>\n",
       "      <td>52,78</td>\n",
       "      <td>5036</td>\n",
       "      <td>95,41</td>\n",
       "      <td>Avenida do Mestre Manuel Gómez Lorenzo (Vedra)...</td>\n",
       "      <td></td>\n",
       "    </tr>\n",
       "    <tr>\n",
       "      <th>6985</th>\n",
       "      <td>12</td>\n",
       "      <td>Galicia</td>\n",
       "      <td>13424</td>\n",
       "      <td>A_Coruna</td>\n",
       "      <td>1150912</td>\n",
       "      <td>7445</td>\n",
       "      <td>Vilarmaior</td>\n",
       "      <td>21/11/86</td>\n",
       "      <td>30,35</td>\n",
       "      <td>1226</td>\n",
       "      <td>40,4</td>\n",
       "      <td>Armada, A (Vilarmaior) (San Pedro)</td>\n",
       "      <td></td>\n",
       "    </tr>\n",
       "    <tr>\n",
       "      <th>6986</th>\n",
       "      <td>12</td>\n",
       "      <td>Galicia</td>\n",
       "      <td>13424</td>\n",
       "      <td>A_Coruna</td>\n",
       "      <td>1150905</td>\n",
       "      <td>7444</td>\n",
       "      <td>Vilasantar</td>\n",
       "      <td>31/10/86</td>\n",
       "      <td>59,17</td>\n",
       "      <td>1213</td>\n",
       "      <td>20,5</td>\n",
       "      <td>Ru (Vilasantar) (Santiago)</td>\n",
       "      <td></td>\n",
       "    </tr>\n",
       "    <tr>\n",
       "      <th>6987</th>\n",
       "      <td>12</td>\n",
       "      <td>Galicia</td>\n",
       "      <td>13424</td>\n",
       "      <td>A_Coruna</td>\n",
       "      <td>1150927</td>\n",
       "      <td>7446</td>\n",
       "      <td>Vimianzo</td>\n",
       "      <td>26/01/87</td>\n",
       "      <td>187,27</td>\n",
       "      <td>7057</td>\n",
       "      <td>37,68</td>\n",
       "      <td>Vimianzo (Vimianzo) (San Vicenzo)</td>\n",
       "      <td></td>\n",
       "    </tr>\n",
       "    <tr>\n",
       "      <th>6988</th>\n",
       "      <td>12</td>\n",
       "      <td>Galicia</td>\n",
       "      <td>13424</td>\n",
       "      <td>A_Coruna</td>\n",
       "      <td>1150933</td>\n",
       "      <td>7447</td>\n",
       "      <td>Zas</td>\n",
       "      <td>21/11/86</td>\n",
       "      <td>133,29</td>\n",
       "      <td>4472</td>\n",
       "      <td>33,55</td>\n",
       "      <td>Zas (Zas) (Santo André)</td>\n",
       "      <td></td>\n",
       "    </tr>\n",
       "  </tbody>\n",
       "</table>\n",
       "<p>543 rows × 13 columns</p>\n",
       "</div>"
      ],
      "text/plain": [
       "      codigo_ca comunidad_autonoma  codigo_provincia provincia  \\\n",
       "0             1          Andalucía             13385   Almería   \n",
       "1             1          Andalucía             13385   Almería   \n",
       "2             1          Andalucía             13385   Almería   \n",
       "3             1          Andalucía             13385   Almería   \n",
       "4             1          Andalucía             13385   Almería   \n",
       "...         ...                ...               ...       ...   \n",
       "6984         12            Galicia             13424  A_Coruna   \n",
       "6985         12            Galicia             13424  A_Coruna   \n",
       "6986         12            Galicia             13424  A_Coruna   \n",
       "6987         12            Galicia             13424  A_Coruna   \n",
       "6988         12            Galicia             13424  A_Coruna   \n",
       "\n",
       "      numero_inscripcion  codigo_municipio denominacion fecha_inscripcion  \\\n",
       "0                1040010              5517         Abla          16/02/87   \n",
       "1                1040025              5518     Abrucena          22/04/87   \n",
       "2                1040031              5519         Adra          13/11/86   \n",
       "3                1040046              5520    Albanchez          22/04/87   \n",
       "4                1040059              5521    Alboloduy          19/01/87   \n",
       "...                  ...               ...          ...               ...   \n",
       "6984             1150891              7443        Vedra          26/01/87   \n",
       "6985             1150912              7445   Vilarmaior          21/11/86   \n",
       "6986             1150905              7444   Vilasantar          31/10/86   \n",
       "6987             1150927              7446     Vimianzo          26/01/87   \n",
       "6988             1150933              7447          Zas          21/11/86   \n",
       "\n",
       "     superficie  habitantes densidad  \\\n",
       "0         45,24        1249    27,61   \n",
       "1         83,68        1202    14,36   \n",
       "2         89,69       25148   280,39   \n",
       "3         34,91         741    21,23   \n",
       "4         69,73         616     8,83   \n",
       "...         ...         ...      ...   \n",
       "6984      52,78        5036    95,41   \n",
       "6985      30,35        1226     40,4   \n",
       "6986      59,17        1213     20,5   \n",
       "6987     187,27        7057    37,68   \n",
       "6988     133,29        4472    33,55   \n",
       "\n",
       "                                            capitalidad anotacion  \n",
       "0                                                  Abla            \n",
       "1                                              Abrucena            \n",
       "2                                                  Adra            \n",
       "3                                             Albanchez    \\n \\n   \n",
       "4                                             Alboloduy            \n",
       "...                                                 ...       ...  \n",
       "6984  Avenida do Mestre Manuel Gómez Lorenzo (Vedra)...            \n",
       "6985                 Armada, A (Vilarmaior) (San Pedro)            \n",
       "6986                         Ru (Vilasantar) (Santiago)            \n",
       "6987                  Vimianzo (Vimianzo) (San Vicenzo)            \n",
       "6988                            Zas (Zas) (Santo André)            \n",
       "\n",
       "[543 rows x 13 columns]"
      ]
     },
     "execution_count": 11,
     "metadata": {},
     "output_type": "execute_result"
    }
   ],
   "source": [
    "tabla_muestra"
   ]
  },
  {
   "cell_type": "code",
   "execution_count": 12,
   "id": "d6a85675",
   "metadata": {},
   "outputs": [
    {
     "data": {
      "text/plain": [
       "Index(['codigo_ca', 'comunidad_autonoma', 'codigo_provincia', 'provincia',\n",
       "       'numero_inscripcion', 'codigo_municipio', 'denominacion',\n",
       "       'fecha_inscripcion', 'superficie', 'habitantes', 'densidad',\n",
       "       'capitalidad', 'anotacion'],\n",
       "      dtype='object')"
      ]
     },
     "execution_count": 12,
     "metadata": {},
     "output_type": "execute_result"
    }
   ],
   "source": [
    "tabla_muestra.columns"
   ]
  },
  {
   "cell_type": "code",
   "execution_count": 13,
   "id": "3d929094",
   "metadata": {},
   "outputs": [],
   "source": [
    "tabla_muestra = tabla_muestra.drop(['codigo_ca', 'numero_inscripcion', 'codigo_municipio', 'denominacion', \n",
    "                                    'fecha_inscripcion', 'densidad','capitalidad', 'anotacion'], axis=1)\n",
    "#borramos las columnas que no necesitamos para trabajar en nuestro estudio"
   ]
  },
  {
   "cell_type": "code",
   "execution_count": 14,
   "id": "0e2250ba",
   "metadata": {},
   "outputs": [
    {
     "data": {
      "text/html": [
       "<div>\n",
       "<style scoped>\n",
       "    .dataframe tbody tr th:only-of-type {\n",
       "        vertical-align: middle;\n",
       "    }\n",
       "\n",
       "    .dataframe tbody tr th {\n",
       "        vertical-align: top;\n",
       "    }\n",
       "\n",
       "    .dataframe thead th {\n",
       "        text-align: right;\n",
       "    }\n",
       "</style>\n",
       "<table border=\"1\" class=\"dataframe\">\n",
       "  <thead>\n",
       "    <tr style=\"text-align: right;\">\n",
       "      <th></th>\n",
       "      <th>comunidad_autonoma</th>\n",
       "      <th>codigo_provincia</th>\n",
       "      <th>provincia</th>\n",
       "      <th>superficie</th>\n",
       "      <th>habitantes</th>\n",
       "    </tr>\n",
       "  </thead>\n",
       "  <tbody>\n",
       "    <tr>\n",
       "      <th>0</th>\n",
       "      <td>Andalucía</td>\n",
       "      <td>13385</td>\n",
       "      <td>Almería</td>\n",
       "      <td>45,24</td>\n",
       "      <td>1249</td>\n",
       "    </tr>\n",
       "    <tr>\n",
       "      <th>1</th>\n",
       "      <td>Andalucía</td>\n",
       "      <td>13385</td>\n",
       "      <td>Almería</td>\n",
       "      <td>83,68</td>\n",
       "      <td>1202</td>\n",
       "    </tr>\n",
       "    <tr>\n",
       "      <th>2</th>\n",
       "      <td>Andalucía</td>\n",
       "      <td>13385</td>\n",
       "      <td>Almería</td>\n",
       "      <td>89,69</td>\n",
       "      <td>25148</td>\n",
       "    </tr>\n",
       "    <tr>\n",
       "      <th>3</th>\n",
       "      <td>Andalucía</td>\n",
       "      <td>13385</td>\n",
       "      <td>Almería</td>\n",
       "      <td>34,91</td>\n",
       "      <td>741</td>\n",
       "    </tr>\n",
       "    <tr>\n",
       "      <th>4</th>\n",
       "      <td>Andalucía</td>\n",
       "      <td>13385</td>\n",
       "      <td>Almería</td>\n",
       "      <td>69,73</td>\n",
       "      <td>616</td>\n",
       "    </tr>\n",
       "  </tbody>\n",
       "</table>\n",
       "</div>"
      ],
      "text/plain": [
       "  comunidad_autonoma  codigo_provincia provincia superficie  habitantes\n",
       "0          Andalucía             13385   Almería      45,24        1249\n",
       "1          Andalucía             13385   Almería      83,68        1202\n",
       "2          Andalucía             13385   Almería      89,69       25148\n",
       "3          Andalucía             13385   Almería      34,91         741\n",
       "4          Andalucía             13385   Almería      69,73         616"
      ]
     },
     "execution_count": 14,
     "metadata": {},
     "output_type": "execute_result"
    }
   ],
   "source": [
    "tabla_muestra.head()"
   ]
  },
  {
   "cell_type": "code",
   "execution_count": 15,
   "id": "d4cafa24",
   "metadata": {},
   "outputs": [
    {
     "data": {
      "text/html": [
       "<div>\n",
       "<style scoped>\n",
       "    .dataframe tbody tr th:only-of-type {\n",
       "        vertical-align: middle;\n",
       "    }\n",
       "\n",
       "    .dataframe tbody tr th {\n",
       "        vertical-align: top;\n",
       "    }\n",
       "\n",
       "    .dataframe thead th {\n",
       "        text-align: right;\n",
       "    }\n",
       "</style>\n",
       "<table border=\"1\" class=\"dataframe\">\n",
       "  <thead>\n",
       "    <tr style=\"text-align: right;\">\n",
       "      <th></th>\n",
       "      <th>comunidad_autonoma</th>\n",
       "      <th>codigo_provincia</th>\n",
       "      <th>provincia</th>\n",
       "      <th>superficie</th>\n",
       "      <th>habitantes</th>\n",
       "    </tr>\n",
       "  </thead>\n",
       "  <tbody>\n",
       "    <tr>\n",
       "      <th>0</th>\n",
       "      <td>Andalucía</td>\n",
       "      <td>13385</td>\n",
       "      <td>Almería</td>\n",
       "      <td>45.24</td>\n",
       "      <td>1249</td>\n",
       "    </tr>\n",
       "    <tr>\n",
       "      <th>1</th>\n",
       "      <td>Andalucía</td>\n",
       "      <td>13385</td>\n",
       "      <td>Almería</td>\n",
       "      <td>83.68</td>\n",
       "      <td>1202</td>\n",
       "    </tr>\n",
       "    <tr>\n",
       "      <th>2</th>\n",
       "      <td>Andalucía</td>\n",
       "      <td>13385</td>\n",
       "      <td>Almería</td>\n",
       "      <td>89.69</td>\n",
       "      <td>25148</td>\n",
       "    </tr>\n",
       "    <tr>\n",
       "      <th>3</th>\n",
       "      <td>Andalucía</td>\n",
       "      <td>13385</td>\n",
       "      <td>Almería</td>\n",
       "      <td>34.91</td>\n",
       "      <td>741</td>\n",
       "    </tr>\n",
       "    <tr>\n",
       "      <th>4</th>\n",
       "      <td>Andalucía</td>\n",
       "      <td>13385</td>\n",
       "      <td>Almería</td>\n",
       "      <td>69.73</td>\n",
       "      <td>616</td>\n",
       "    </tr>\n",
       "  </tbody>\n",
       "</table>\n",
       "</div>"
      ],
      "text/plain": [
       "  comunidad_autonoma  codigo_provincia provincia  superficie  habitantes\n",
       "0          Andalucía             13385   Almería       45.24        1249\n",
       "1          Andalucía             13385   Almería       83.68        1202\n",
       "2          Andalucía             13385   Almería       89.69       25148\n",
       "3          Andalucía             13385   Almería       34.91         741\n",
       "4          Andalucía             13385   Almería       69.73         616"
      ]
     },
     "execution_count": 15,
     "metadata": {},
     "output_type": "execute_result"
    }
   ],
   "source": [
    "tabla_muestra['superficie'] = tabla_muestra['superficie'].str.replace(',', '.').astype(float)\n",
    "\n",
    "\n",
    "tabla_muestra['habitantes'] = tabla_muestra['habitantes'].astype(int)\n",
    "\n",
    "# Convertimos 'superficie' a float para poder trabajar con ella y habitantes a int\n",
    "tabla_muestra.head()"
   ]
  },
  {
   "cell_type": "markdown",
   "id": "6225fc35",
   "metadata": {},
   "source": [
    "ahora vamos a agrupar datos sumando los valores de superficie y habitante"
   ]
  },
  {
   "cell_type": "code",
   "execution_count": 16,
   "id": "e3e273cc",
   "metadata": {},
   "outputs": [
    {
     "data": {
      "text/plain": [
       "{'A_Coruna': 7949.94,\n",
       " 'Almería': 8773.78,\n",
       " 'Cádiz': 7338.13,\n",
       " 'Girona': 5908.19,\n",
       " 'Huelva': 10185.66}"
      ]
     },
     "execution_count": 16,
     "metadata": {},
     "output_type": "execute_result"
    }
   ],
   "source": [
    "dict_superficie = tabla_muestra.groupby('provincia')['superficie'].sum().to_dict()\n",
    "dict_superficie"
   ]
  },
  {
   "cell_type": "code",
   "execution_count": 17,
   "id": "b68e800a",
   "metadata": {},
   "outputs": [
    {
     "data": {
      "text/plain": [
       "{'A_Coruna': 1119596,\n",
       " 'Almería': 716820,\n",
       " 'Cádiz': 1240155,\n",
       " 'Girona': 771044,\n",
       " 'Huelva': 521870}"
      ]
     },
     "execution_count": 17,
     "metadata": {},
     "output_type": "execute_result"
    }
   ],
   "source": [
    "dict_habitantes = tabla_muestra.groupby('provincia')['habitantes'].sum().to_dict()\n",
    "dict_habitantes"
   ]
  },
  {
   "cell_type": "markdown",
   "id": "1d6cbeef",
   "metadata": {},
   "source": [
    "Tenemos los valores totales por provincia de superficie y habitantes. ahora vamos a reducir nuestra tabla a una línea por provincia. borramos las columnas de superficie y habitantes y agrupamos todo primero por provincia."
   ]
  },
  {
   "cell_type": "code",
   "execution_count": 18,
   "id": "26efe52b",
   "metadata": {},
   "outputs": [],
   "source": [
    "tabla_muestra = tabla_muestra.drop(columns=['superficie', 'habitantes'])  "
   ]
  },
  {
   "cell_type": "code",
   "execution_count": 19,
   "id": "0a93bcda",
   "metadata": {},
   "outputs": [],
   "source": [
    "tabla_muestra = tabla_muestra.groupby('provincia').first().reset_index() \n",
    "#La función de agregación first(), agrupa por valor de columna, eligiendo el primer valor que se encuentra."
   ]
  },
  {
   "cell_type": "code",
   "execution_count": 20,
   "id": "0c94bf6d",
   "metadata": {},
   "outputs": [
    {
     "data": {
      "text/html": [
       "<div>\n",
       "<style scoped>\n",
       "    .dataframe tbody tr th:only-of-type {\n",
       "        vertical-align: middle;\n",
       "    }\n",
       "\n",
       "    .dataframe tbody tr th {\n",
       "        vertical-align: top;\n",
       "    }\n",
       "\n",
       "    .dataframe thead th {\n",
       "        text-align: right;\n",
       "    }\n",
       "</style>\n",
       "<table border=\"1\" class=\"dataframe\">\n",
       "  <thead>\n",
       "    <tr style=\"text-align: right;\">\n",
       "      <th></th>\n",
       "      <th>provincia</th>\n",
       "      <th>comunidad_autonoma</th>\n",
       "      <th>codigo_provincia</th>\n",
       "    </tr>\n",
       "  </thead>\n",
       "  <tbody>\n",
       "    <tr>\n",
       "      <th>0</th>\n",
       "      <td>A_Coruna</td>\n",
       "      <td>Galicia</td>\n",
       "      <td>13424</td>\n",
       "    </tr>\n",
       "    <tr>\n",
       "      <th>1</th>\n",
       "      <td>Almería</td>\n",
       "      <td>Andalucía</td>\n",
       "      <td>13385</td>\n",
       "    </tr>\n",
       "    <tr>\n",
       "      <th>2</th>\n",
       "      <td>Cádiz</td>\n",
       "      <td>Andalucía</td>\n",
       "      <td>13386</td>\n",
       "    </tr>\n",
       "    <tr>\n",
       "      <th>3</th>\n",
       "      <td>Girona</td>\n",
       "      <td>Cataluña</td>\n",
       "      <td>13416</td>\n",
       "    </tr>\n",
       "    <tr>\n",
       "      <th>4</th>\n",
       "      <td>Huelva</td>\n",
       "      <td>Andalucía</td>\n",
       "      <td>13389</td>\n",
       "    </tr>\n",
       "  </tbody>\n",
       "</table>\n",
       "</div>"
      ],
      "text/plain": [
       "  provincia comunidad_autonoma  codigo_provincia\n",
       "0  A_Coruna            Galicia             13424\n",
       "1   Almería          Andalucía             13385\n",
       "2     Cádiz          Andalucía             13386\n",
       "3    Girona           Cataluña             13416\n",
       "4    Huelva          Andalucía             13389"
      ]
     },
     "execution_count": 20,
     "metadata": {},
     "output_type": "execute_result"
    }
   ],
   "source": [
    "tabla_muestra"
   ]
  },
  {
   "cell_type": "code",
   "execution_count": 21,
   "id": "d6acda07",
   "metadata": {},
   "outputs": [],
   "source": [
    "#Agrego los dos diccionarios que tengo en dos nuevas coliumnas.\n",
    "tabla_muestra['superficie_km2'] = tabla_muestra['provincia'].map(dict_superficie)\n",
    "tabla_muestra['habitantes'] = tabla_muestra['provincia'].map(dict_habitantes)"
   ]
  },
  {
   "cell_type": "code",
   "execution_count": 22,
   "id": "2e0c598a",
   "metadata": {},
   "outputs": [],
   "source": [
    "#Quiero crear una nueva columna para la densidad de población\n",
    "tabla_muestra['densidad'] = tabla_muestra.apply(lambda x: round(x['habitantes'] / x['superficie_km2'],2), axis=1)"
   ]
  },
  {
   "cell_type": "code",
   "execution_count": 23,
   "id": "9e99bf38",
   "metadata": {},
   "outputs": [],
   "source": [
    "dict_estaciones = {'Almería': '6302A', 'Cádiz': '5973', 'Girona': '0367', 'Huelva': '4642E', 'A_Coruna': '1387'}"
   ]
  },
  {
   "cell_type": "code",
   "execution_count": 24,
   "id": "d04d3dec",
   "metadata": {},
   "outputs": [
    {
     "data": {
      "text/plain": [
       "Index(['provincia', 'comunidad_autonoma', 'codigo_provincia', 'superficie_km2',\n",
       "       'habitantes', 'densidad'],\n",
       "      dtype='object')"
      ]
     },
     "execution_count": 24,
     "metadata": {},
     "output_type": "execute_result"
    }
   ],
   "source": [
    "tabla_muestra.columns"
   ]
  },
  {
   "cell_type": "code",
   "execution_count": 25,
   "id": "0fe360e0",
   "metadata": {},
   "outputs": [],
   "source": [
    "tabla_muestra['indicativo'] = tabla_muestra['provincia'].map(dict_estaciones)"
   ]
  },
  {
   "cell_type": "code",
   "execution_count": 26,
   "id": "967c30a5",
   "metadata": {},
   "outputs": [],
   "source": [
    "tabla_muestra = tabla_muestra[['codigo_provincia', 'comunidad_autonoma', 'provincia', 'indicativo',\n",
    "                              'superficie_km2', 'habitantes', 'densidad']]"
   ]
  },
  {
   "cell_type": "code",
   "execution_count": 29,
   "id": "2395ae04",
   "metadata": {},
   "outputs": [
    {
     "name": "stdout",
     "output_type": "stream",
     "text": [
      "<class 'pandas.core.frame.DataFrame'>\n",
      "RangeIndex: 5 entries, 0 to 4\n",
      "Data columns (total 7 columns):\n",
      " #   Column              Non-Null Count  Dtype  \n",
      "---  ------              --------------  -----  \n",
      " 0   codigo_provincia    5 non-null      int64  \n",
      " 1   comunidad_autonoma  5 non-null      object \n",
      " 2   provincia           5 non-null      object \n",
      " 3   indicativo          5 non-null      object \n",
      " 4   superficie_km2      5 non-null      float64\n",
      " 5   habitantes          5 non-null      int64  \n",
      " 6   densidad            5 non-null      float64\n",
      "dtypes: float64(2), int64(2), object(3)\n",
      "memory usage: 408.0+ bytes\n"
     ]
    }
   ],
   "source": [
    "tabla_muestra.info()"
   ]
  },
  {
   "cell_type": "markdown",
   "id": "85798765",
   "metadata": {},
   "source": [
    "Así queda nuestra tabla final. Solo queda guardarla en csv, por ejemplo, antes de subirla a SQL."
   ]
  },
  {
   "cell_type": "code",
   "execution_count": 28,
   "id": "de3d8c1d",
   "metadata": {},
   "outputs": [],
   "source": [
    "tabla_muestra.to_csv('../data/tablas_limpias/tabla_provincias.csv', index=False)"
   ]
  },
  {
   "cell_type": "code",
   "execution_count": null,
   "id": "8bec1283",
   "metadata": {},
   "outputs": [],
   "source": []
  }
 ],
 "metadata": {
  "kernelspec": {
   "display_name": "Python 3 (ipykernel)",
   "language": "python",
   "name": "python3"
  },
  "language_info": {
   "codemirror_mode": {
    "name": "ipython",
    "version": 3
   },
   "file_extension": ".py",
   "mimetype": "text/x-python",
   "name": "python",
   "nbconvert_exporter": "python",
   "pygments_lexer": "ipython3",
   "version": "3.10.9"
  }
 },
 "nbformat": 4,
 "nbformat_minor": 5
}
