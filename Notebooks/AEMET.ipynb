{
 "cells": [
  {
   "cell_type": "code",
   "execution_count": 1,
   "id": "6a4fd132",
   "metadata": {},
   "outputs": [],
   "source": [
    "import pandas as pd\n",
    "import numpy as np\n",
    "import warnings\n",
    "import regex as re\n",
    "from sqlalchemy import create_engine\n",
    "warnings.filterwarnings('ignore')\n",
    "pd.set_option('display.max_columns', None)"
   ]
  },
  {
   "cell_type": "code",
   "execution_count": 2,
   "id": "3ad38af6",
   "metadata": {},
   "outputs": [],
   "source": [
    "almeria = pd.read_json('../data/datos_aemet_6302A.json')\n",
    "\n",
    "a_coruna = pd.read_json('../data/datos_aemet_1387.json')\n",
    "\n",
    "huelva = pd.read_json('../data/datos_aemet_4642E.json')\n",
    "\n",
    "girona = pd.read_json('../data/datos_aemet_0367.json')\n",
    "\n",
    "cadiz = pd.read_json('../data/datos_aemet_5973.json')"
   ]
  },
  {
   "cell_type": "markdown",
   "id": "61aa04c1",
   "metadata": {},
   "source": [
    "En las tablas he visto como no todas ellas están estructuradas de la misma forma, intuyo que por ser estaciones diferentes, recogen los datos con diferente estructura. Tendré que ir una a una unificando estructura."
   ]
  },
  {
   "cell_type": "code",
   "execution_count": 3,
   "id": "ef17261a",
   "metadata": {},
   "outputs": [
    {
     "data": {
      "text/html": [
       "<div>\n",
       "<style scoped>\n",
       "    .dataframe tbody tr th:only-of-type {\n",
       "        vertical-align: middle;\n",
       "    }\n",
       "\n",
       "    .dataframe tbody tr th {\n",
       "        vertical-align: top;\n",
       "    }\n",
       "\n",
       "    .dataframe thead th {\n",
       "        text-align: right;\n",
       "    }\n",
       "</style>\n",
       "<table border=\"1\" class=\"dataframe\">\n",
       "  <thead>\n",
       "    <tr style=\"text-align: right;\">\n",
       "      <th></th>\n",
       "      <th>fecha</th>\n",
       "      <th>indicativo</th>\n",
       "      <th>p_max</th>\n",
       "      <th>nw_55</th>\n",
       "      <th>w_racha</th>\n",
       "      <th>np_100</th>\n",
       "      <th>nw_91</th>\n",
       "      <th>np_001</th>\n",
       "      <th>w_rec</th>\n",
       "      <th>np_300</th>\n",
       "      <th>p_mes</th>\n",
       "      <th>w_med</th>\n",
       "      <th>np_010</th>\n",
       "      <th>hr</th>\n",
       "      <th>tm_min</th>\n",
       "      <th>ta_max</th>\n",
       "      <th>ts_min</th>\n",
       "      <th>nt_30</th>\n",
       "      <th>ta_min</th>\n",
       "      <th>e</th>\n",
       "      <th>nt_00</th>\n",
       "      <th>ti_max</th>\n",
       "      <th>tm_mes</th>\n",
       "      <th>tm_max</th>\n",
       "      <th>q_max</th>\n",
       "      <th>q_mar</th>\n",
       "      <th>q_med</th>\n",
       "      <th>q_min</th>\n",
       "      <th>n_cub</th>\n",
       "      <th>n_des</th>\n",
       "      <th>n_nub</th>\n",
       "    </tr>\n",
       "  </thead>\n",
       "  <tbody>\n",
       "    <tr>\n",
       "      <th>0</th>\n",
       "      <td>2019-1</td>\n",
       "      <td>6302A</td>\n",
       "      <td>2.4(19)</td>\n",
       "      <td>1.0</td>\n",
       "      <td>19/15.6(28)</td>\n",
       "      <td>0.0</td>\n",
       "      <td>0.0</td>\n",
       "      <td>4.0</td>\n",
       "      <td>163.0</td>\n",
       "      <td>0.0</td>\n",
       "      <td>4.7</td>\n",
       "      <td>7.0</td>\n",
       "      <td>2.0</td>\n",
       "      <td>NaN</td>\n",
       "      <td>NaN</td>\n",
       "      <td>NaN</td>\n",
       "      <td>NaN</td>\n",
       "      <td>NaN</td>\n",
       "      <td>NaN</td>\n",
       "      <td>NaN</td>\n",
       "      <td>NaN</td>\n",
       "      <td>NaN</td>\n",
       "      <td>NaN</td>\n",
       "      <td>NaN</td>\n",
       "      <td>NaN</td>\n",
       "      <td>NaN</td>\n",
       "      <td>NaN</td>\n",
       "      <td>NaN</td>\n",
       "      <td>NaN</td>\n",
       "      <td>NaN</td>\n",
       "      <td>NaN</td>\n",
       "    </tr>\n",
       "    <tr>\n",
       "      <th>1</th>\n",
       "      <td>2019-2</td>\n",
       "      <td>6302A</td>\n",
       "      <td>4.1(01)</td>\n",
       "      <td>NaN</td>\n",
       "      <td>NaN</td>\n",
       "      <td>0.0</td>\n",
       "      <td>NaN</td>\n",
       "      <td>2.0</td>\n",
       "      <td>NaN</td>\n",
       "      <td>0.0</td>\n",
       "      <td>4.2</td>\n",
       "      <td>NaN</td>\n",
       "      <td>1.0</td>\n",
       "      <td>NaN</td>\n",
       "      <td>NaN</td>\n",
       "      <td>NaN</td>\n",
       "      <td>NaN</td>\n",
       "      <td>NaN</td>\n",
       "      <td>NaN</td>\n",
       "      <td>NaN</td>\n",
       "      <td>NaN</td>\n",
       "      <td>NaN</td>\n",
       "      <td>NaN</td>\n",
       "      <td>NaN</td>\n",
       "      <td>NaN</td>\n",
       "      <td>NaN</td>\n",
       "      <td>NaN</td>\n",
       "      <td>NaN</td>\n",
       "      <td>NaN</td>\n",
       "      <td>NaN</td>\n",
       "      <td>NaN</td>\n",
       "    </tr>\n",
       "    <tr>\n",
       "      <th>2</th>\n",
       "      <td>2019-3</td>\n",
       "      <td>6302A</td>\n",
       "      <td>3.0(30)</td>\n",
       "      <td>NaN</td>\n",
       "      <td>NaN</td>\n",
       "      <td>0.0</td>\n",
       "      <td>NaN</td>\n",
       "      <td>3.0</td>\n",
       "      <td>NaN</td>\n",
       "      <td>0.0</td>\n",
       "      <td>6.2</td>\n",
       "      <td>NaN</td>\n",
       "      <td>2.0</td>\n",
       "      <td>NaN</td>\n",
       "      <td>NaN</td>\n",
       "      <td>NaN</td>\n",
       "      <td>NaN</td>\n",
       "      <td>NaN</td>\n",
       "      <td>NaN</td>\n",
       "      <td>NaN</td>\n",
       "      <td>NaN</td>\n",
       "      <td>NaN</td>\n",
       "      <td>NaN</td>\n",
       "      <td>NaN</td>\n",
       "      <td>NaN</td>\n",
       "      <td>NaN</td>\n",
       "      <td>NaN</td>\n",
       "      <td>NaN</td>\n",
       "      <td>NaN</td>\n",
       "      <td>NaN</td>\n",
       "      <td>NaN</td>\n",
       "    </tr>\n",
       "    <tr>\n",
       "      <th>3</th>\n",
       "      <td>2019-4</td>\n",
       "      <td>6302A</td>\n",
       "      <td>17.0(18)</td>\n",
       "      <td>0.0</td>\n",
       "      <td>35/14.4(15)</td>\n",
       "      <td>1.0</td>\n",
       "      <td>0.0</td>\n",
       "      <td>12.0</td>\n",
       "      <td>154.0</td>\n",
       "      <td>0.0</td>\n",
       "      <td>53.1</td>\n",
       "      <td>8.0</td>\n",
       "      <td>8.0</td>\n",
       "      <td>50.0</td>\n",
       "      <td>7.8</td>\n",
       "      <td>27.7(15)</td>\n",
       "      <td>12.6</td>\n",
       "      <td>0.0</td>\n",
       "      <td>4.2(06)</td>\n",
       "      <td>77.0</td>\n",
       "      <td>0.0</td>\n",
       "      <td>13.0</td>\n",
       "      <td>13.5</td>\n",
       "      <td>19.1</td>\n",
       "      <td>NaN</td>\n",
       "      <td>NaN</td>\n",
       "      <td>NaN</td>\n",
       "      <td>NaN</td>\n",
       "      <td>NaN</td>\n",
       "      <td>NaN</td>\n",
       "      <td>NaN</td>\n",
       "    </tr>\n",
       "    <tr>\n",
       "      <th>4</th>\n",
       "      <td>2019-5</td>\n",
       "      <td>6302A</td>\n",
       "      <td>3.9(03)</td>\n",
       "      <td>0.0</td>\n",
       "      <td>08/11.4(23)</td>\n",
       "      <td>0.0</td>\n",
       "      <td>0.0</td>\n",
       "      <td>1.0</td>\n",
       "      <td>157.0</td>\n",
       "      <td>0.0</td>\n",
       "      <td>3.9</td>\n",
       "      <td>8.0</td>\n",
       "      <td>1.0</td>\n",
       "      <td>41.0</td>\n",
       "      <td>13.1</td>\n",
       "      <td>32.2(15)</td>\n",
       "      <td>18.5</td>\n",
       "      <td>2.0</td>\n",
       "      <td>9.8(03)</td>\n",
       "      <td>98.0</td>\n",
       "      <td>0.0</td>\n",
       "      <td>20.2</td>\n",
       "      <td>19.4</td>\n",
       "      <td>25.7</td>\n",
       "      <td>NaN</td>\n",
       "      <td>NaN</td>\n",
       "      <td>NaN</td>\n",
       "      <td>NaN</td>\n",
       "      <td>NaN</td>\n",
       "      <td>NaN</td>\n",
       "      <td>NaN</td>\n",
       "    </tr>\n",
       "  </tbody>\n",
       "</table>\n",
       "</div>"
      ],
      "text/plain": [
       "    fecha indicativo     p_max  nw_55      w_racha  np_100  nw_91  np_001  \\\n",
       "0  2019-1      6302A   2.4(19)    1.0  19/15.6(28)     0.0    0.0     4.0   \n",
       "1  2019-2      6302A   4.1(01)    NaN          NaN     0.0    NaN     2.0   \n",
       "2  2019-3      6302A   3.0(30)    NaN          NaN     0.0    NaN     3.0   \n",
       "3  2019-4      6302A  17.0(18)    0.0  35/14.4(15)     1.0    0.0    12.0   \n",
       "4  2019-5      6302A   3.9(03)    0.0  08/11.4(23)     0.0    0.0     1.0   \n",
       "\n",
       "   w_rec  np_300  p_mes  w_med  np_010    hr  tm_min    ta_max  ts_min  nt_30  \\\n",
       "0  163.0     0.0    4.7    7.0     2.0   NaN     NaN       NaN     NaN    NaN   \n",
       "1    NaN     0.0    4.2    NaN     1.0   NaN     NaN       NaN     NaN    NaN   \n",
       "2    NaN     0.0    6.2    NaN     2.0   NaN     NaN       NaN     NaN    NaN   \n",
       "3  154.0     0.0   53.1    8.0     8.0  50.0     7.8  27.7(15)    12.6    0.0   \n",
       "4  157.0     0.0    3.9    8.0     1.0  41.0    13.1  32.2(15)    18.5    2.0   \n",
       "\n",
       "    ta_min     e  nt_00  ti_max  tm_mes  tm_max q_max  q_mar  q_med q_min  \\\n",
       "0      NaN   NaN    NaN     NaN     NaN     NaN   NaN    NaN    NaN   NaN   \n",
       "1      NaN   NaN    NaN     NaN     NaN     NaN   NaN    NaN    NaN   NaN   \n",
       "2      NaN   NaN    NaN     NaN     NaN     NaN   NaN    NaN    NaN   NaN   \n",
       "3  4.2(06)  77.0    0.0    13.0    13.5    19.1   NaN    NaN    NaN   NaN   \n",
       "4  9.8(03)  98.0    0.0    20.2    19.4    25.7   NaN    NaN    NaN   NaN   \n",
       "\n",
       "   n_cub  n_des  n_nub  \n",
       "0    NaN    NaN    NaN  \n",
       "1    NaN    NaN    NaN  \n",
       "2    NaN    NaN    NaN  \n",
       "3    NaN    NaN    NaN  \n",
       "4    NaN    NaN    NaN  "
      ]
     },
     "execution_count": 3,
     "metadata": {},
     "output_type": "execute_result"
    }
   ],
   "source": [
    "almeria.head()"
   ]
  },
  {
   "cell_type": "code",
   "execution_count": 4,
   "id": "19d4a67b",
   "metadata": {},
   "outputs": [
    {
     "name": "stdout",
     "output_type": "stream",
     "text": [
      "<class 'pandas.core.frame.DataFrame'>\n",
      "RangeIndex: 52 entries, 0 to 51\n",
      "Data columns (total 31 columns):\n",
      " #   Column      Non-Null Count  Dtype  \n",
      "---  ------      --------------  -----  \n",
      " 0   fecha       52 non-null     object \n",
      " 1   indicativo  52 non-null     object \n",
      " 2   p_max       47 non-null     object \n",
      " 3   nw_55       43 non-null     float64\n",
      " 4   w_racha     43 non-null     object \n",
      " 5   np_100      47 non-null     float64\n",
      " 6   nw_91       43 non-null     float64\n",
      " 7   np_001      47 non-null     float64\n",
      " 8   w_rec       43 non-null     float64\n",
      " 9   np_300      47 non-null     float64\n",
      " 10  p_mes       47 non-null     float64\n",
      " 11  w_med       45 non-null     float64\n",
      " 12  np_010      47 non-null     float64\n",
      " 13  hr          37 non-null     float64\n",
      " 14  tm_min      37 non-null     float64\n",
      " 15  ta_max      37 non-null     object \n",
      " 16  ts_min      37 non-null     float64\n",
      " 17  nt_30       37 non-null     float64\n",
      " 18  ta_min      37 non-null     object \n",
      " 19  e           37 non-null     float64\n",
      " 20  nt_00       37 non-null     float64\n",
      " 21  ti_max      37 non-null     float64\n",
      " 22  tm_mes      37 non-null     float64\n",
      " 23  tm_max      37 non-null     float64\n",
      " 24  q_max       32 non-null     object \n",
      " 25  q_mar       32 non-null     float64\n",
      " 26  q_med       32 non-null     float64\n",
      " 27  q_min       32 non-null     object \n",
      " 28  n_cub       16 non-null     float64\n",
      " 29  n_des       16 non-null     float64\n",
      " 30  n_nub       16 non-null     float64\n",
      "dtypes: float64(23), object(8)\n",
      "memory usage: 12.7+ KB\n"
     ]
    }
   ],
   "source": [
    "almeria.info()"
   ]
  },
  {
   "cell_type": "markdown",
   "id": "a44739a0",
   "metadata": {},
   "source": [
    "identifico los datos que me van a servir. Hay demasiados nulos en esta tabla, vamos a borrar columnas que no nos sirvan antes de ver los nulos"
   ]
  },
  {
   "cell_type": "code",
   "execution_count": 5,
   "id": "2b2450fc",
   "metadata": {},
   "outputs": [
    {
     "data": {
      "text/plain": [
       "Index(['fecha', 'indicativo', 'p_max', 'nw_55', 'w_racha', 'np_100', 'nw_91',\n",
       "       'np_001', 'w_rec', 'np_300', 'p_mes', 'w_med', 'np_010', 'hr', 'tm_min',\n",
       "       'ta_max', 'ts_min', 'nt_30', 'ta_min', 'e', 'nt_00', 'ti_max', 'tm_mes',\n",
       "       'tm_max', 'q_max', 'q_mar', 'q_med', 'q_min', 'n_cub', 'n_des',\n",
       "       'n_nub'],\n",
       "      dtype='object')"
      ]
     },
     "execution_count": 5,
     "metadata": {},
     "output_type": "execute_result"
    }
   ],
   "source": [
    "almeria.columns"
   ]
  },
  {
   "cell_type": "code",
   "execution_count": 6,
   "id": "21bd45ad",
   "metadata": {},
   "outputs": [],
   "source": [
    "almeria = almeria[['fecha', 'indicativo', 'p_mes', 'p_max', 'w_med', \n",
    "                   'tm_mes', 'tm_max', 'tm_min', 'n_cub']]\n",
    "#Estas son las columnas que no harán falta para el estudio. Dejaré una leyendo en nuestra base de datos \n",
    "#para entender la nomenclatura."
   ]
  },
  {
   "cell_type": "code",
   "execution_count": 7,
   "id": "1aaac71f",
   "metadata": {},
   "outputs": [
    {
     "data": {
      "text/html": [
       "<div>\n",
       "<style scoped>\n",
       "    .dataframe tbody tr th:only-of-type {\n",
       "        vertical-align: middle;\n",
       "    }\n",
       "\n",
       "    .dataframe tbody tr th {\n",
       "        vertical-align: top;\n",
       "    }\n",
       "\n",
       "    .dataframe thead th {\n",
       "        text-align: right;\n",
       "    }\n",
       "</style>\n",
       "<table border=\"1\" class=\"dataframe\">\n",
       "  <thead>\n",
       "    <tr style=\"text-align: right;\">\n",
       "      <th></th>\n",
       "      <th>fecha</th>\n",
       "      <th>indicativo</th>\n",
       "      <th>p_mes</th>\n",
       "      <th>p_max</th>\n",
       "      <th>w_med</th>\n",
       "      <th>tm_mes</th>\n",
       "      <th>tm_max</th>\n",
       "      <th>tm_min</th>\n",
       "      <th>n_cub</th>\n",
       "    </tr>\n",
       "  </thead>\n",
       "  <tbody>\n",
       "    <tr>\n",
       "      <th>0</th>\n",
       "      <td>2019-1</td>\n",
       "      <td>6302A</td>\n",
       "      <td>4.7</td>\n",
       "      <td>2.4(19)</td>\n",
       "      <td>7.0</td>\n",
       "      <td>NaN</td>\n",
       "      <td>NaN</td>\n",
       "      <td>NaN</td>\n",
       "      <td>NaN</td>\n",
       "    </tr>\n",
       "    <tr>\n",
       "      <th>1</th>\n",
       "      <td>2019-2</td>\n",
       "      <td>6302A</td>\n",
       "      <td>4.2</td>\n",
       "      <td>4.1(01)</td>\n",
       "      <td>NaN</td>\n",
       "      <td>NaN</td>\n",
       "      <td>NaN</td>\n",
       "      <td>NaN</td>\n",
       "      <td>NaN</td>\n",
       "    </tr>\n",
       "    <tr>\n",
       "      <th>2</th>\n",
       "      <td>2019-3</td>\n",
       "      <td>6302A</td>\n",
       "      <td>6.2</td>\n",
       "      <td>3.0(30)</td>\n",
       "      <td>NaN</td>\n",
       "      <td>NaN</td>\n",
       "      <td>NaN</td>\n",
       "      <td>NaN</td>\n",
       "      <td>NaN</td>\n",
       "    </tr>\n",
       "    <tr>\n",
       "      <th>3</th>\n",
       "      <td>2019-4</td>\n",
       "      <td>6302A</td>\n",
       "      <td>53.1</td>\n",
       "      <td>17.0(18)</td>\n",
       "      <td>8.0</td>\n",
       "      <td>13.5</td>\n",
       "      <td>19.1</td>\n",
       "      <td>7.8</td>\n",
       "      <td>NaN</td>\n",
       "    </tr>\n",
       "    <tr>\n",
       "      <th>4</th>\n",
       "      <td>2019-5</td>\n",
       "      <td>6302A</td>\n",
       "      <td>3.9</td>\n",
       "      <td>3.9(03)</td>\n",
       "      <td>8.0</td>\n",
       "      <td>19.4</td>\n",
       "      <td>25.7</td>\n",
       "      <td>13.1</td>\n",
       "      <td>NaN</td>\n",
       "    </tr>\n",
       "  </tbody>\n",
       "</table>\n",
       "</div>"
      ],
      "text/plain": [
       "    fecha indicativo  p_mes     p_max  w_med  tm_mes  tm_max  tm_min  n_cub\n",
       "0  2019-1      6302A    4.7   2.4(19)    7.0     NaN     NaN     NaN    NaN\n",
       "1  2019-2      6302A    4.2   4.1(01)    NaN     NaN     NaN     NaN    NaN\n",
       "2  2019-3      6302A    6.2   3.0(30)    NaN     NaN     NaN     NaN    NaN\n",
       "3  2019-4      6302A   53.1  17.0(18)    8.0    13.5    19.1     7.8    NaN\n",
       "4  2019-5      6302A    3.9   3.9(03)    8.0    19.4    25.7    13.1    NaN"
      ]
     },
     "execution_count": 7,
     "metadata": {},
     "output_type": "execute_result"
    }
   ],
   "source": [
    "almeria.head()"
   ]
  },
  {
   "cell_type": "code",
   "execution_count": 8,
   "id": "98d9086a",
   "metadata": {},
   "outputs": [
    {
     "data": {
      "text/plain": [
       "fecha          0\n",
       "indicativo     0\n",
       "p_mes          5\n",
       "p_max          5\n",
       "w_med          7\n",
       "tm_mes        15\n",
       "tm_max        15\n",
       "tm_min        15\n",
       "n_cub         36\n",
       "dtype: int64"
      ]
     },
     "execution_count": 8,
     "metadata": {},
     "output_type": "execute_result"
    }
   ],
   "source": [
    "almeria.isnull().sum()"
   ]
  },
  {
   "cell_type": "code",
   "execution_count": 9,
   "id": "4344a808",
   "metadata": {},
   "outputs": [
    {
     "data": {
      "text/plain": [
       "(52, 9)"
      ]
     },
     "execution_count": 9,
     "metadata": {},
     "output_type": "execute_result"
    }
   ],
   "source": [
    "almeria.shape"
   ]
  },
  {
   "cell_type": "markdown",
   "id": "c7e4018f",
   "metadata": {},
   "source": [
    "Me doy cuenta que no concuerdan los tres años de datos con las filas que deben haber en mi DF. Es porque hay una fila resumen por cada año, ej: 2019-13. Las borro."
   ]
  },
  {
   "cell_type": "code",
   "execution_count": 10,
   "id": "f8b60d87",
   "metadata": {},
   "outputs": [],
   "source": [
    "#Creo una función porque tendré que borrar estas mismas filas en el resto de tablas de provincias\n",
    "def borrar_filas(df):\n",
    "    lista_filas = [12, 25, 38, 51]\n",
    "    df_nuevo = df.drop(lista_filas)\n",
    "    df_nuevo = df_nuevo.reset_index(drop=True)\n",
    "    return df_nuevo"
   ]
  },
  {
   "cell_type": "code",
   "execution_count": 11,
   "id": "ccb4b48b",
   "metadata": {},
   "outputs": [],
   "source": [
    "almeria = almeria.apply(borrar_filas)"
   ]
  },
  {
   "cell_type": "code",
   "execution_count": 12,
   "id": "9590e713",
   "metadata": {},
   "outputs": [
    {
     "data": {
      "text/plain": [
       "(48, 9)"
      ]
     },
     "execution_count": 12,
     "metadata": {},
     "output_type": "execute_result"
    }
   ],
   "source": [
    "almeria.shape"
   ]
  },
  {
   "cell_type": "code",
   "execution_count": 13,
   "id": "11f6887e",
   "metadata": {},
   "outputs": [
    {
     "name": "stdout",
     "output_type": "stream",
     "text": [
      "<class 'pandas.core.frame.DataFrame'>\n",
      "RangeIndex: 48 entries, 0 to 47\n",
      "Data columns (total 9 columns):\n",
      " #   Column      Non-Null Count  Dtype  \n",
      "---  ------      --------------  -----  \n",
      " 0   fecha       48 non-null     object \n",
      " 1   indicativo  48 non-null     object \n",
      " 2   p_mes       44 non-null     float64\n",
      " 3   p_max       44 non-null     object \n",
      " 4   w_med       43 non-null     float64\n",
      " 5   tm_mes      37 non-null     float64\n",
      " 6   tm_max      37 non-null     float64\n",
      " 7   tm_min      37 non-null     float64\n",
      " 8   n_cub       15 non-null     float64\n",
      "dtypes: float64(6), object(3)\n",
      "memory usage: 3.5+ KB\n"
     ]
    }
   ],
   "source": [
    "almeria.info()"
   ]
  },
  {
   "cell_type": "markdown",
   "id": "060c799f",
   "metadata": {},
   "source": [
    "terminamos. dejamos los nulos puesto que si los cambiamos a cualquier valor no nos refleja la info que nos da la tabla. Hacemos lo mismo con el resto."
   ]
  },
  {
   "cell_type": "code",
   "execution_count": 20,
   "id": "944c48ef",
   "metadata": {},
   "outputs": [],
   "source": [
    "def borrar_filas_columnas(df):\n",
    "    \n",
    "    columnas_deseadas = ['fecha', 'indicativo', 'p_mes', 'p_max', 'w_med', 'tm_mes', 'tm_max', 'tm_min', 'n_cub']\n",
    "    \n",
    "    if isinstance(df, pd.Series):\n",
    "        df = df.to_frame().T\n",
    "    \n",
    "    for columna in columnas_deseadas:#Esto evita error si no existe una de esta cols en el DF.\n",
    "        if columna not in df.columns:\n",
    "            df[columna] = None #Crea una columna de nulos\n",
    "    \n",
    "    lista_filas = [12, 25, 38, 51]\n",
    "    df_nuevo = df.drop(lista_filas)\n",
    "    df_nuevo = df_nuevo.reset_index(drop=True)\n",
    "    return df_nuevo"
   ]
  },
  {
   "cell_type": "code",
   "execution_count": 22,
   "id": "d179f781",
   "metadata": {
    "scrolled": true
   },
   "outputs": [
    {
     "data": {
      "text/plain": [
       "Index(['fecha', 'indicativo', 'p_max', 'glo', 'hr', 'n_gra', 'n_fog', 'inso',\n",
       "       'q_max', 'nw_55', 'q_mar', 'q_med', 'tm_min', 'ta_max', 'ts_min',\n",
       "       'nt_30', 'nv_0050', 'w_racha', 'np_100', 'p_sol', 'nw_91', 'ts_20',\n",
       "       'np_001', 'ta_min', 'w_rec', 'e', 'np_300', 'nv_1000', 'evap', 'p_mes',\n",
       "       'n_llu', 'n_tor', 'ts_10', 'w_med', 'nt_00', 'ti_max', 'n_nie',\n",
       "       'tm_mes', 'tm_max', 'nv_0100', 'q_min', 'np_010', 'n_cub', 'n_des',\n",
       "       'n_nub'],\n",
       "      dtype='object')"
      ]
     },
     "execution_count": 22,
     "metadata": {},
     "output_type": "execute_result"
    }
   ],
   "source": [
    "a_coruna.columns"
   ]
  },
  {
   "cell_type": "code",
   "execution_count": 23,
   "id": "91eab99d",
   "metadata": {},
   "outputs": [],
   "source": [
    "a_coruna = a_coruna[['fecha', 'indicativo', 'p_mes', 'p_max', 'w_med', \n",
    "                   'tm_mes', 'tm_max', 'tm_min', 'n_cub']]"
   ]
  },
  {
   "cell_type": "code",
   "execution_count": 25,
   "id": "b8af322b",
   "metadata": {},
   "outputs": [
    {
     "data": {
      "text/plain": [
       "(52, 9)"
      ]
     },
     "execution_count": 25,
     "metadata": {},
     "output_type": "execute_result"
    }
   ],
   "source": [
    "a_coruna.shape"
   ]
  },
  {
   "cell_type": "code",
   "execution_count": 26,
   "id": "431557d6",
   "metadata": {},
   "outputs": [],
   "source": [
    "a_coruna = a_coruna.apply(borrar_filas)"
   ]
  },
  {
   "cell_type": "code",
   "execution_count": 27,
   "id": "1871456e",
   "metadata": {},
   "outputs": [
    {
     "data": {
      "text/plain": [
       "(48, 9)"
      ]
     },
     "execution_count": 27,
     "metadata": {},
     "output_type": "execute_result"
    }
   ],
   "source": [
    "a_coruna.shape"
   ]
  },
  {
   "cell_type": "code",
   "execution_count": 28,
   "id": "24f561ee",
   "metadata": {},
   "outputs": [
    {
     "data": {
      "text/plain": [
       "Index(['fecha', 'indicativo', 'p_max', 'glo', 'hr', 'q_max', 'nw_55', 'q_mar',\n",
       "       'q_med', 'tm_min', 'ta_max', 'ts_min', 'nt_30', 'w_racha', 'np_100',\n",
       "       'nw_91', 'np_001', 'ta_min', 'w_rec', 'e', 'np_300', 'p_mes', 'w_med',\n",
       "       'nt_00', 'ti_max', 'tm_mes', 'tm_max', 'q_min', 'np_010', 'evap',\n",
       "       'n_gra', 'n_fog', 'n_llu', 'n_tor', 'n_nie', 'n_cub', 'n_des', 'n_nub'],\n",
       "      dtype='object')"
      ]
     },
     "execution_count": 28,
     "metadata": {},
     "output_type": "execute_result"
    }
   ],
   "source": [
    "cadiz.columns"
   ]
  },
  {
   "cell_type": "code",
   "execution_count": 29,
   "id": "66882620",
   "metadata": {},
   "outputs": [],
   "source": [
    "cadiz = cadiz[['fecha', 'indicativo', 'p_mes', 'p_max', 'w_med', \n",
    "                   'tm_mes', 'tm_max', 'tm_min', 'n_cub']]"
   ]
  },
  {
   "cell_type": "code",
   "execution_count": 30,
   "id": "58f0b225",
   "metadata": {},
   "outputs": [
    {
     "data": {
      "text/plain": [
       "(52, 9)"
      ]
     },
     "execution_count": 30,
     "metadata": {},
     "output_type": "execute_result"
    }
   ],
   "source": [
    "cadiz.shape"
   ]
  },
  {
   "cell_type": "code",
   "execution_count": 31,
   "id": "460783be",
   "metadata": {
    "scrolled": true
   },
   "outputs": [],
   "source": [
    "cadiz = cadiz.apply(borrar_filas)"
   ]
  },
  {
   "cell_type": "code",
   "execution_count": 32,
   "id": "a5d2b64d",
   "metadata": {},
   "outputs": [
    {
     "data": {
      "text/plain": [
       "(48, 9)"
      ]
     },
     "execution_count": 32,
     "metadata": {},
     "output_type": "execute_result"
    }
   ],
   "source": [
    "cadiz.shape"
   ]
  },
  {
   "cell_type": "code",
   "execution_count": 33,
   "id": "a395936f",
   "metadata": {
    "scrolled": true
   },
   "outputs": [
    {
     "data": {
      "text/plain": [
       "Index(['fecha', 'indicativo', 'p_max', 'glo', 'hr', 'n_gra', 'n_fog', 'inso',\n",
       "       'q_max', 'nw_55', 'q_mar', 'q_med', 'tm_min', 'ta_max', 'ts_min',\n",
       "       'nt_30', 'w_racha', 'np_100', 'p_sol', 'nw_91', 'ts_20', 'np_001',\n",
       "       'ta_min', 'w_rec', 'e', 'np_300', 'p_mes', 'n_llu', 'n_tor', 'w_med',\n",
       "       'nt_00', 'ti_max', 'n_nie', 'tm_mes', 'tm_max', 'q_min', 'np_010',\n",
       "       'evap', 'n_cub', 'nv_0050', 'n_des', 'n_nub', 'nv_1000', 'nv_0100'],\n",
       "      dtype='object')"
      ]
     },
     "execution_count": 33,
     "metadata": {},
     "output_type": "execute_result"
    }
   ],
   "source": [
    "huelva.columns"
   ]
  },
  {
   "cell_type": "code",
   "execution_count": 34,
   "id": "d430944b",
   "metadata": {},
   "outputs": [],
   "source": [
    "huelva = huelva[['fecha', 'indicativo', 'p_mes', 'p_max', 'w_med', \n",
    "                   'tm_mes', 'tm_max', 'tm_min', 'n_cub']]"
   ]
  },
  {
   "cell_type": "code",
   "execution_count": 35,
   "id": "6337c546",
   "metadata": {},
   "outputs": [
    {
     "data": {
      "text/plain": [
       "(52, 9)"
      ]
     },
     "execution_count": 35,
     "metadata": {},
     "output_type": "execute_result"
    }
   ],
   "source": [
    "huelva.shape"
   ]
  },
  {
   "cell_type": "code",
   "execution_count": 36,
   "id": "c759433b",
   "metadata": {},
   "outputs": [],
   "source": [
    "huelva = huelva.apply(borrar_filas)"
   ]
  },
  {
   "cell_type": "code",
   "execution_count": 37,
   "id": "bfd5538e",
   "metadata": {},
   "outputs": [
    {
     "data": {
      "text/plain": [
       "(48, 9)"
      ]
     },
     "execution_count": 37,
     "metadata": {},
     "output_type": "execute_result"
    }
   ],
   "source": [
    "huelva.shape"
   ]
  },
  {
   "cell_type": "code",
   "execution_count": 38,
   "id": "3fa67289",
   "metadata": {},
   "outputs": [
    {
     "data": {
      "text/plain": [
       "Index(['fecha', 'indicativo', 'p_max', 'n_cub', 'glo', 'hr', 'n_gra', 'n_fog',\n",
       "       'inso', 'q_max', 'nw_55', 'q_mar', 'q_med', 'tm_min', 'ta_max',\n",
       "       'ts_min', 'nt_30', 'nv_0050', 'n_des', 'w_racha', 'np_100', 'n_nub',\n",
       "       'p_sol', 'nw_91', 'np_001', 'ta_min', 'w_rec', 'e', 'np_300', 'nv_1000',\n",
       "       'p_mes', 'n_llu', 'n_tor', 'w_med', 'nt_00', 'ti_max', 'n_nie',\n",
       "       'tm_mes', 'tm_max', 'nv_0100', 'q_min', 'np_010'],\n",
       "      dtype='object')"
      ]
     },
     "execution_count": 38,
     "metadata": {},
     "output_type": "execute_result"
    }
   ],
   "source": [
    "girona.columns"
   ]
  },
  {
   "cell_type": "code",
   "execution_count": 39,
   "id": "9617a813",
   "metadata": {},
   "outputs": [],
   "source": [
    "girona = girona[['fecha', 'indicativo', 'p_mes', 'p_max', 'w_med', \n",
    "                   'tm_mes', 'tm_max', 'tm_min', 'n_cub']]"
   ]
  },
  {
   "cell_type": "code",
   "execution_count": 40,
   "id": "46f63232",
   "metadata": {},
   "outputs": [],
   "source": [
    "girona = girona.apply(borrar_filas)"
   ]
  },
  {
   "cell_type": "code",
   "execution_count": 41,
   "id": "d42793c9",
   "metadata": {},
   "outputs": [
    {
     "data": {
      "text/plain": [
       "(48, 9)"
      ]
     },
     "execution_count": 41,
     "metadata": {},
     "output_type": "execute_result"
    }
   ],
   "source": [
    "girona.shape"
   ]
  },
  {
   "cell_type": "markdown",
   "id": "9fd778a5",
   "metadata": {},
   "source": [
    "Modifico los tipos de cada columna para que todas tengan la misma estructura antes de concatenarlas."
   ]
  },
  {
   "cell_type": "code",
   "execution_count": 48,
   "id": "6f35888b",
   "metadata": {},
   "outputs": [],
   "source": [
    "a_coruna.indicativo = a_coruna.indicativo.astype(object)"
   ]
  },
  {
   "cell_type": "code",
   "execution_count": 50,
   "id": "5042de74",
   "metadata": {},
   "outputs": [],
   "source": [
    "girona.indicativo = girona.indicativo.astype(object)\n",
    "girona.w_med = girona.w_med.astype(float)"
   ]
  },
  {
   "cell_type": "code",
   "execution_count": 52,
   "id": "f6afdab0",
   "metadata": {},
   "outputs": [],
   "source": [
    "cadiz.indicativo = cadiz.indicativo.astype(object)"
   ]
  },
  {
   "cell_type": "code",
   "execution_count": 44,
   "id": "feab1e21",
   "metadata": {},
   "outputs": [
    {
     "name": "stdout",
     "output_type": "stream",
     "text": [
      "<class 'pandas.core.frame.DataFrame'>\n",
      "RangeIndex: 48 entries, 0 to 47\n",
      "Data columns (total 9 columns):\n",
      " #   Column      Non-Null Count  Dtype  \n",
      "---  ------      --------------  -----  \n",
      " 0   fecha       48 non-null     object \n",
      " 1   indicativo  48 non-null     object \n",
      " 2   p_mes       48 non-null     float64\n",
      " 3   p_max       48 non-null     object \n",
      " 4   w_med       47 non-null     float64\n",
      " 5   tm_mes      48 non-null     float64\n",
      " 6   tm_max      48 non-null     float64\n",
      " 7   tm_min      48 non-null     float64\n",
      " 8   n_cub       15 non-null     float64\n",
      "dtypes: float64(6), object(3)\n",
      "memory usage: 3.5+ KB\n"
     ]
    }
   ],
   "source": [
    "huelva.info()"
   ]
  },
  {
   "cell_type": "code",
   "execution_count": 53,
   "id": "ff9a985d",
   "metadata": {},
   "outputs": [
    {
     "name": "stdout",
     "output_type": "stream",
     "text": [
      "<class 'pandas.core.frame.DataFrame'>\n",
      "RangeIndex: 48 entries, 0 to 47\n",
      "Data columns (total 9 columns):\n",
      " #   Column      Non-Null Count  Dtype  \n",
      "---  ------      --------------  -----  \n",
      " 0   fecha       48 non-null     object \n",
      " 1   indicativo  48 non-null     object \n",
      " 2   p_mes       48 non-null     float64\n",
      " 3   p_max       48 non-null     object \n",
      " 4   w_med       47 non-null     float64\n",
      " 5   tm_mes      48 non-null     float64\n",
      " 6   tm_max      48 non-null     float64\n",
      " 7   tm_min      48 non-null     float64\n",
      " 8   n_cub       14 non-null     float64\n",
      "dtypes: float64(6), object(3)\n",
      "memory usage: 3.5+ KB\n"
     ]
    }
   ],
   "source": [
    "cadiz.info()"
   ]
  },
  {
   "cell_type": "code",
   "execution_count": null,
   "id": "d8b27ea8",
   "metadata": {},
   "outputs": [],
   "source": []
  },
  {
   "cell_type": "code",
   "execution_count": 51,
   "id": "bdeea494",
   "metadata": {},
   "outputs": [
    {
     "name": "stdout",
     "output_type": "stream",
     "text": [
      "<class 'pandas.core.frame.DataFrame'>\n",
      "RangeIndex: 48 entries, 0 to 47\n",
      "Data columns (total 9 columns):\n",
      " #   Column      Non-Null Count  Dtype  \n",
      "---  ------      --------------  -----  \n",
      " 0   fecha       48 non-null     object \n",
      " 1   indicativo  48 non-null     object \n",
      " 2   p_mes       48 non-null     float64\n",
      " 3   p_max       48 non-null     object \n",
      " 4   w_med       48 non-null     float64\n",
      " 5   tm_mes      47 non-null     float64\n",
      " 6   tm_max      47 non-null     float64\n",
      " 7   tm_min      47 non-null     float64\n",
      " 8   n_cub       45 non-null     float64\n",
      "dtypes: float64(6), object(3)\n",
      "memory usage: 3.5+ KB\n"
     ]
    }
   ],
   "source": [
    "girona.info()"
   ]
  },
  {
   "cell_type": "code",
   "execution_count": 49,
   "id": "b8e660fa",
   "metadata": {
    "scrolled": true
   },
   "outputs": [
    {
     "name": "stdout",
     "output_type": "stream",
     "text": [
      "<class 'pandas.core.frame.DataFrame'>\n",
      "RangeIndex: 48 entries, 0 to 47\n",
      "Data columns (total 9 columns):\n",
      " #   Column      Non-Null Count  Dtype  \n",
      "---  ------      --------------  -----  \n",
      " 0   fecha       48 non-null     object \n",
      " 1   indicativo  48 non-null     object \n",
      " 2   p_mes       48 non-null     float64\n",
      " 3   p_max       48 non-null     object \n",
      " 4   w_med       43 non-null     float64\n",
      " 5   tm_mes      48 non-null     float64\n",
      " 6   tm_max      48 non-null     float64\n",
      " 7   tm_min      48 non-null     float64\n",
      " 8   n_cub       5 non-null      float64\n",
      "dtypes: float64(6), object(3)\n",
      "memory usage: 3.5+ KB\n"
     ]
    }
   ],
   "source": [
    "a_coruna.info()"
   ]
  },
  {
   "cell_type": "code",
   "execution_count": 47,
   "id": "cf2eb767",
   "metadata": {},
   "outputs": [
    {
     "name": "stdout",
     "output_type": "stream",
     "text": [
      "<class 'pandas.core.frame.DataFrame'>\n",
      "RangeIndex: 48 entries, 0 to 47\n",
      "Data columns (total 9 columns):\n",
      " #   Column      Non-Null Count  Dtype  \n",
      "---  ------      --------------  -----  \n",
      " 0   fecha       48 non-null     object \n",
      " 1   indicativo  48 non-null     object \n",
      " 2   p_mes       44 non-null     float64\n",
      " 3   p_max       44 non-null     object \n",
      " 4   w_med       43 non-null     float64\n",
      " 5   tm_mes      37 non-null     float64\n",
      " 6   tm_max      37 non-null     float64\n",
      " 7   tm_min      37 non-null     float64\n",
      " 8   n_cub       15 non-null     float64\n",
      "dtypes: float64(6), object(3)\n",
      "memory usage: 3.5+ KB\n"
     ]
    }
   ],
   "source": [
    "almeria.info()"
   ]
  },
  {
   "cell_type": "code",
   "execution_count": 54,
   "id": "8259c042",
   "metadata": {},
   "outputs": [],
   "source": [
    "tabla_clima = pd.concat([almeria,a_coruna,huelva,girona,cadiz])"
   ]
  },
  {
   "cell_type": "code",
   "execution_count": 55,
   "id": "99a38255",
   "metadata": {},
   "outputs": [
    {
     "data": {
      "text/plain": [
       "(240, 9)"
      ]
     },
     "execution_count": 55,
     "metadata": {},
     "output_type": "execute_result"
    }
   ],
   "source": [
    "tabla_clima.shape"
   ]
  },
  {
   "cell_type": "code",
   "execution_count": 58,
   "id": "71e9f496",
   "metadata": {},
   "outputs": [
    {
     "data": {
      "text/html": [
       "<div>\n",
       "<style scoped>\n",
       "    .dataframe tbody tr th:only-of-type {\n",
       "        vertical-align: middle;\n",
       "    }\n",
       "\n",
       "    .dataframe tbody tr th {\n",
       "        vertical-align: top;\n",
       "    }\n",
       "\n",
       "    .dataframe thead th {\n",
       "        text-align: right;\n",
       "    }\n",
       "</style>\n",
       "<table border=\"1\" class=\"dataframe\">\n",
       "  <thead>\n",
       "    <tr style=\"text-align: right;\">\n",
       "      <th></th>\n",
       "      <th>fecha</th>\n",
       "      <th>indicativo</th>\n",
       "      <th>p_mes</th>\n",
       "      <th>p_max</th>\n",
       "      <th>w_med</th>\n",
       "      <th>tm_mes</th>\n",
       "      <th>tm_max</th>\n",
       "      <th>tm_min</th>\n",
       "      <th>n_cub</th>\n",
       "    </tr>\n",
       "  </thead>\n",
       "  <tbody>\n",
       "    <tr>\n",
       "      <th>0</th>\n",
       "      <td>2019-1</td>\n",
       "      <td>6302A</td>\n",
       "      <td>4.7</td>\n",
       "      <td>2.4(19)</td>\n",
       "      <td>7.0</td>\n",
       "      <td>NaN</td>\n",
       "      <td>NaN</td>\n",
       "      <td>NaN</td>\n",
       "      <td>NaN</td>\n",
       "    </tr>\n",
       "    <tr>\n",
       "      <th>1</th>\n",
       "      <td>2019-2</td>\n",
       "      <td>6302A</td>\n",
       "      <td>4.2</td>\n",
       "      <td>4.1(01)</td>\n",
       "      <td>NaN</td>\n",
       "      <td>NaN</td>\n",
       "      <td>NaN</td>\n",
       "      <td>NaN</td>\n",
       "      <td>NaN</td>\n",
       "    </tr>\n",
       "    <tr>\n",
       "      <th>2</th>\n",
       "      <td>2019-3</td>\n",
       "      <td>6302A</td>\n",
       "      <td>6.2</td>\n",
       "      <td>3.0(30)</td>\n",
       "      <td>NaN</td>\n",
       "      <td>NaN</td>\n",
       "      <td>NaN</td>\n",
       "      <td>NaN</td>\n",
       "      <td>NaN</td>\n",
       "    </tr>\n",
       "    <tr>\n",
       "      <th>3</th>\n",
       "      <td>2019-4</td>\n",
       "      <td>6302A</td>\n",
       "      <td>53.1</td>\n",
       "      <td>17.0(18)</td>\n",
       "      <td>8.0</td>\n",
       "      <td>13.5</td>\n",
       "      <td>19.1</td>\n",
       "      <td>7.8</td>\n",
       "      <td>NaN</td>\n",
       "    </tr>\n",
       "    <tr>\n",
       "      <th>4</th>\n",
       "      <td>2019-5</td>\n",
       "      <td>6302A</td>\n",
       "      <td>3.9</td>\n",
       "      <td>3.9(03)</td>\n",
       "      <td>8.0</td>\n",
       "      <td>19.4</td>\n",
       "      <td>25.7</td>\n",
       "      <td>13.1</td>\n",
       "      <td>NaN</td>\n",
       "    </tr>\n",
       "    <tr>\n",
       "      <th>5</th>\n",
       "      <td>2019-6</td>\n",
       "      <td>6302A</td>\n",
       "      <td>2.2</td>\n",
       "      <td>2.2(13)</td>\n",
       "      <td>11.0</td>\n",
       "      <td>NaN</td>\n",
       "      <td>NaN</td>\n",
       "      <td>NaN</td>\n",
       "      <td>NaN</td>\n",
       "    </tr>\n",
       "    <tr>\n",
       "      <th>6</th>\n",
       "      <td>2019-7</td>\n",
       "      <td>6302A</td>\n",
       "      <td>0.3</td>\n",
       "      <td>0.3(07)</td>\n",
       "      <td>11.0</td>\n",
       "      <td>26.4</td>\n",
       "      <td>32.8</td>\n",
       "      <td>19.9</td>\n",
       "      <td>NaN</td>\n",
       "    </tr>\n",
       "    <tr>\n",
       "      <th>7</th>\n",
       "      <td>2019-8</td>\n",
       "      <td>6302A</td>\n",
       "      <td>1.9</td>\n",
       "      <td>1.8(31)</td>\n",
       "      <td>10.0</td>\n",
       "      <td>26.2</td>\n",
       "      <td>32.6</td>\n",
       "      <td>19.7</td>\n",
       "      <td>NaN</td>\n",
       "    </tr>\n",
       "    <tr>\n",
       "      <th>8</th>\n",
       "      <td>2019-9</td>\n",
       "      <td>6302A</td>\n",
       "      <td>44.6</td>\n",
       "      <td>28.5(12)</td>\n",
       "      <td>7.0</td>\n",
       "      <td>22.1</td>\n",
       "      <td>27.7</td>\n",
       "      <td>16.6</td>\n",
       "      <td>NaN</td>\n",
       "    </tr>\n",
       "    <tr>\n",
       "      <th>9</th>\n",
       "      <td>2019-10</td>\n",
       "      <td>6302A</td>\n",
       "      <td>10.9</td>\n",
       "      <td>4.8(19)</td>\n",
       "      <td>5.0</td>\n",
       "      <td>18.8</td>\n",
       "      <td>24.8</td>\n",
       "      <td>12.7</td>\n",
       "      <td>NaN</td>\n",
       "    </tr>\n",
       "    <tr>\n",
       "      <th>10</th>\n",
       "      <td>2019-11</td>\n",
       "      <td>6302A</td>\n",
       "      <td>18.5</td>\n",
       "      <td>8.9(17)</td>\n",
       "      <td>8.0</td>\n",
       "      <td>12.3</td>\n",
       "      <td>16.8</td>\n",
       "      <td>7.7</td>\n",
       "      <td>NaN</td>\n",
       "    </tr>\n",
       "    <tr>\n",
       "      <th>11</th>\n",
       "      <td>2019-12</td>\n",
       "      <td>6302A</td>\n",
       "      <td>20.9</td>\n",
       "      <td>12.1(02)</td>\n",
       "      <td>6.0</td>\n",
       "      <td>12.1</td>\n",
       "      <td>17.3</td>\n",
       "      <td>6.9</td>\n",
       "      <td>NaN</td>\n",
       "    </tr>\n",
       "    <tr>\n",
       "      <th>12</th>\n",
       "      <td>2020-1</td>\n",
       "      <td>6302A</td>\n",
       "      <td>21.3</td>\n",
       "      <td>6.6(20)</td>\n",
       "      <td>5.0</td>\n",
       "      <td>9.6</td>\n",
       "      <td>14.9</td>\n",
       "      <td>4.2</td>\n",
       "      <td>NaN</td>\n",
       "    </tr>\n",
       "    <tr>\n",
       "      <th>13</th>\n",
       "      <td>2020-2</td>\n",
       "      <td>6302A</td>\n",
       "      <td>0.0</td>\n",
       "      <td>0.0(--)</td>\n",
       "      <td>5.0</td>\n",
       "      <td>13.7</td>\n",
       "      <td>20.1</td>\n",
       "      <td>7.2</td>\n",
       "      <td>NaN</td>\n",
       "    </tr>\n",
       "    <tr>\n",
       "      <th>14</th>\n",
       "      <td>2020-3</td>\n",
       "      <td>6302A</td>\n",
       "      <td>31.7</td>\n",
       "      <td>8.5(23)</td>\n",
       "      <td>8.0</td>\n",
       "      <td>13.2</td>\n",
       "      <td>18.5</td>\n",
       "      <td>7.9</td>\n",
       "      <td>NaN</td>\n",
       "    </tr>\n",
       "    <tr>\n",
       "      <th>15</th>\n",
       "      <td>2020-4</td>\n",
       "      <td>6302A</td>\n",
       "      <td>34.5</td>\n",
       "      <td>12.1(13)</td>\n",
       "      <td>8.0</td>\n",
       "      <td>13.9</td>\n",
       "      <td>18.7</td>\n",
       "      <td>9.0</td>\n",
       "      <td>NaN</td>\n",
       "    </tr>\n",
       "    <tr>\n",
       "      <th>16</th>\n",
       "      <td>2020-5</td>\n",
       "      <td>6302A</td>\n",
       "      <td>11.1</td>\n",
       "      <td>8.6(12)</td>\n",
       "      <td>9.0</td>\n",
       "      <td>20.0</td>\n",
       "      <td>26.1</td>\n",
       "      <td>13.9</td>\n",
       "      <td>NaN</td>\n",
       "    </tr>\n",
       "    <tr>\n",
       "      <th>17</th>\n",
       "      <td>2020-6</td>\n",
       "      <td>6302A</td>\n",
       "      <td>0.0</td>\n",
       "      <td>0.0(--)</td>\n",
       "      <td>9.0</td>\n",
       "      <td>23.1</td>\n",
       "      <td>29.5</td>\n",
       "      <td>16.6</td>\n",
       "      <td>NaN</td>\n",
       "    </tr>\n",
       "    <tr>\n",
       "      <th>18</th>\n",
       "      <td>2020-7</td>\n",
       "      <td>6302A</td>\n",
       "      <td>0.0</td>\n",
       "      <td>0.0(--)</td>\n",
       "      <td>11.0</td>\n",
       "      <td>NaN</td>\n",
       "      <td>NaN</td>\n",
       "      <td>NaN</td>\n",
       "      <td>NaN</td>\n",
       "    </tr>\n",
       "    <tr>\n",
       "      <th>19</th>\n",
       "      <td>2020-8</td>\n",
       "      <td>6302A</td>\n",
       "      <td>0.7</td>\n",
       "      <td>0.7(01)</td>\n",
       "      <td>10.0</td>\n",
       "      <td>26.9</td>\n",
       "      <td>33.4</td>\n",
       "      <td>20.3</td>\n",
       "      <td>NaN</td>\n",
       "    </tr>\n",
       "    <tr>\n",
       "      <th>20</th>\n",
       "      <td>2020-9</td>\n",
       "      <td>6302A</td>\n",
       "      <td>10.4</td>\n",
       "      <td>6.2(18)</td>\n",
       "      <td>9.0</td>\n",
       "      <td>21.9</td>\n",
       "      <td>28.1</td>\n",
       "      <td>15.7</td>\n",
       "      <td>NaN</td>\n",
       "    </tr>\n",
       "    <tr>\n",
       "      <th>21</th>\n",
       "      <td>2020-10</td>\n",
       "      <td>6302A</td>\n",
       "      <td>6.2</td>\n",
       "      <td>2.9(22)</td>\n",
       "      <td>7.0</td>\n",
       "      <td>17.2</td>\n",
       "      <td>23.8</td>\n",
       "      <td>10.6</td>\n",
       "      <td>NaN</td>\n",
       "    </tr>\n",
       "    <tr>\n",
       "      <th>22</th>\n",
       "      <td>2020-11</td>\n",
       "      <td>6302A</td>\n",
       "      <td>75.8</td>\n",
       "      <td>37.8(05)</td>\n",
       "      <td>6.0</td>\n",
       "      <td>13.9</td>\n",
       "      <td>19.2</td>\n",
       "      <td>8.6</td>\n",
       "      <td>NaN</td>\n",
       "    </tr>\n",
       "    <tr>\n",
       "      <th>23</th>\n",
       "      <td>2020-12</td>\n",
       "      <td>6302A</td>\n",
       "      <td>2.8</td>\n",
       "      <td>1.6(08)</td>\n",
       "      <td>7.0</td>\n",
       "      <td>10.5</td>\n",
       "      <td>15.8</td>\n",
       "      <td>5.1</td>\n",
       "      <td>NaN</td>\n",
       "    </tr>\n",
       "    <tr>\n",
       "      <th>24</th>\n",
       "      <td>2021-1</td>\n",
       "      <td>6302A</td>\n",
       "      <td>53.2</td>\n",
       "      <td>23.6(08)</td>\n",
       "      <td>7.0</td>\n",
       "      <td>9.8</td>\n",
       "      <td>15.1</td>\n",
       "      <td>4.6</td>\n",
       "      <td>NaN</td>\n",
       "    </tr>\n",
       "    <tr>\n",
       "      <th>25</th>\n",
       "      <td>2021-2</td>\n",
       "      <td>6302A</td>\n",
       "      <td>7.9</td>\n",
       "      <td>4.2(21)</td>\n",
       "      <td>6.0</td>\n",
       "      <td>12.5</td>\n",
       "      <td>18.1</td>\n",
       "      <td>6.9</td>\n",
       "      <td>NaN</td>\n",
       "    </tr>\n",
       "    <tr>\n",
       "      <th>26</th>\n",
       "      <td>2021-3</td>\n",
       "      <td>6302A</td>\n",
       "      <td>21.8</td>\n",
       "      <td>13.9(06)</td>\n",
       "      <td>5.0</td>\n",
       "      <td>12.4</td>\n",
       "      <td>18.0</td>\n",
       "      <td>6.7</td>\n",
       "      <td>NaN</td>\n",
       "    </tr>\n",
       "    <tr>\n",
       "      <th>27</th>\n",
       "      <td>2021-4</td>\n",
       "      <td>6302A</td>\n",
       "      <td>45.9</td>\n",
       "      <td>13.5(15)</td>\n",
       "      <td>5.0</td>\n",
       "      <td>14.3</td>\n",
       "      <td>19.4</td>\n",
       "      <td>9.1</td>\n",
       "      <td>NaN</td>\n",
       "    </tr>\n",
       "    <tr>\n",
       "      <th>28</th>\n",
       "      <td>2021-5</td>\n",
       "      <td>6302A</td>\n",
       "      <td>38.8</td>\n",
       "      <td>21.8(23)</td>\n",
       "      <td>6.0</td>\n",
       "      <td>18.8</td>\n",
       "      <td>25.3</td>\n",
       "      <td>12.3</td>\n",
       "      <td>NaN</td>\n",
       "    </tr>\n",
       "    <tr>\n",
       "      <th>29</th>\n",
       "      <td>2021-6</td>\n",
       "      <td>6302A</td>\n",
       "      <td>21.5</td>\n",
       "      <td>10.0(05)</td>\n",
       "      <td>8.0</td>\n",
       "      <td>22.5</td>\n",
       "      <td>28.9</td>\n",
       "      <td>16.0</td>\n",
       "      <td>NaN</td>\n",
       "    </tr>\n",
       "    <tr>\n",
       "      <th>30</th>\n",
       "      <td>2021-7</td>\n",
       "      <td>6302A</td>\n",
       "      <td>0.6</td>\n",
       "      <td>0.6(26)</td>\n",
       "      <td>8.0</td>\n",
       "      <td>27.0</td>\n",
       "      <td>33.9</td>\n",
       "      <td>20.0</td>\n",
       "      <td>NaN</td>\n",
       "    </tr>\n",
       "    <tr>\n",
       "      <th>31</th>\n",
       "      <td>2021-8</td>\n",
       "      <td>6302A</td>\n",
       "      <td>0.5</td>\n",
       "      <td>0.3(16)</td>\n",
       "      <td>8.0</td>\n",
       "      <td>26.7</td>\n",
       "      <td>32.9</td>\n",
       "      <td>20.4</td>\n",
       "      <td>NaN</td>\n",
       "    </tr>\n",
       "    <tr>\n",
       "      <th>32</th>\n",
       "      <td>2021-9</td>\n",
       "      <td>6302A</td>\n",
       "      <td>4.4</td>\n",
       "      <td>2.2(24)</td>\n",
       "      <td>8.0</td>\n",
       "      <td>NaN</td>\n",
       "      <td>NaN</td>\n",
       "      <td>NaN</td>\n",
       "      <td>NaN</td>\n",
       "    </tr>\n",
       "    <tr>\n",
       "      <th>33</th>\n",
       "      <td>2021-10</td>\n",
       "      <td>6302A</td>\n",
       "      <td>4.5</td>\n",
       "      <td>4.2(22)</td>\n",
       "      <td>6.0</td>\n",
       "      <td>18.2</td>\n",
       "      <td>23.9</td>\n",
       "      <td>12.5</td>\n",
       "      <td>2.0</td>\n",
       "    </tr>\n",
       "    <tr>\n",
       "      <th>34</th>\n",
       "      <td>2021-11</td>\n",
       "      <td>6302A</td>\n",
       "      <td>16.3</td>\n",
       "      <td>7.0(20)</td>\n",
       "      <td>8.0</td>\n",
       "      <td>11.4</td>\n",
       "      <td>16.4</td>\n",
       "      <td>6.3</td>\n",
       "      <td>4.0</td>\n",
       "    </tr>\n",
       "    <tr>\n",
       "      <th>35</th>\n",
       "      <td>2021-12</td>\n",
       "      <td>6302A</td>\n",
       "      <td>4.4</td>\n",
       "      <td>2.9(24)</td>\n",
       "      <td>8.0</td>\n",
       "      <td>11.7</td>\n",
       "      <td>16.9</td>\n",
       "      <td>6.5</td>\n",
       "      <td>5.0</td>\n",
       "    </tr>\n",
       "    <tr>\n",
       "      <th>36</th>\n",
       "      <td>2022-1</td>\n",
       "      <td>6302A</td>\n",
       "      <td>11.0</td>\n",
       "      <td>5.8(26)</td>\n",
       "      <td>7.0</td>\n",
       "      <td>9.3</td>\n",
       "      <td>14.6</td>\n",
       "      <td>3.9</td>\n",
       "      <td>4.0</td>\n",
       "    </tr>\n",
       "    <tr>\n",
       "      <th>37</th>\n",
       "      <td>2022-2</td>\n",
       "      <td>6302A</td>\n",
       "      <td>8.3</td>\n",
       "      <td>5.9(24)</td>\n",
       "      <td>7.0</td>\n",
       "      <td>11.5</td>\n",
       "      <td>17.5</td>\n",
       "      <td>5.5</td>\n",
       "      <td>5.0</td>\n",
       "    </tr>\n",
       "    <tr>\n",
       "      <th>38</th>\n",
       "      <td>2022-3</td>\n",
       "      <td>6302A</td>\n",
       "      <td>116.9</td>\n",
       "      <td>25.5(24)</td>\n",
       "      <td>8.0</td>\n",
       "      <td>10.9</td>\n",
       "      <td>15.1</td>\n",
       "      <td>6.6</td>\n",
       "      <td>17.0</td>\n",
       "    </tr>\n",
       "    <tr>\n",
       "      <th>39</th>\n",
       "      <td>2022-4</td>\n",
       "      <td>6302A</td>\n",
       "      <td>60.4</td>\n",
       "      <td>25.7(05)</td>\n",
       "      <td>7.0</td>\n",
       "      <td>13.4</td>\n",
       "      <td>18.9</td>\n",
       "      <td>7.9</td>\n",
       "      <td>11.0</td>\n",
       "    </tr>\n",
       "    <tr>\n",
       "      <th>40</th>\n",
       "      <td>2022-5</td>\n",
       "      <td>6302A</td>\n",
       "      <td>NaN</td>\n",
       "      <td>NaN</td>\n",
       "      <td>NaN</td>\n",
       "      <td>NaN</td>\n",
       "      <td>NaN</td>\n",
       "      <td>NaN</td>\n",
       "      <td>4.0</td>\n",
       "    </tr>\n",
       "    <tr>\n",
       "      <th>41</th>\n",
       "      <td>2022-6</td>\n",
       "      <td>6302A</td>\n",
       "      <td>NaN</td>\n",
       "      <td>NaN</td>\n",
       "      <td>8.0</td>\n",
       "      <td>NaN</td>\n",
       "      <td>NaN</td>\n",
       "      <td>NaN</td>\n",
       "      <td>2.0</td>\n",
       "    </tr>\n",
       "    <tr>\n",
       "      <th>42</th>\n",
       "      <td>2022-7</td>\n",
       "      <td>6302A</td>\n",
       "      <td>0.0</td>\n",
       "      <td>0.0(--)</td>\n",
       "      <td>9.0</td>\n",
       "      <td>26.6</td>\n",
       "      <td>33.2</td>\n",
       "      <td>19.9</td>\n",
       "      <td>0.0</td>\n",
       "    </tr>\n",
       "    <tr>\n",
       "      <th>43</th>\n",
       "      <td>2022-8</td>\n",
       "      <td>6302A</td>\n",
       "      <td>8.8</td>\n",
       "      <td>4.4(30)</td>\n",
       "      <td>9.0</td>\n",
       "      <td>26.1</td>\n",
       "      <td>32.8</td>\n",
       "      <td>19.3</td>\n",
       "      <td>3.0</td>\n",
       "    </tr>\n",
       "    <tr>\n",
       "      <th>44</th>\n",
       "      <td>2022-9</td>\n",
       "      <td>6302A</td>\n",
       "      <td>5.6</td>\n",
       "      <td>1.6(12)</td>\n",
       "      <td>NaN</td>\n",
       "      <td>NaN</td>\n",
       "      <td>NaN</td>\n",
       "      <td>NaN</td>\n",
       "      <td>5.0</td>\n",
       "    </tr>\n",
       "    <tr>\n",
       "      <th>45</th>\n",
       "      <td>2022-10</td>\n",
       "      <td>6302A</td>\n",
       "      <td>NaN</td>\n",
       "      <td>NaN</td>\n",
       "      <td>5.0</td>\n",
       "      <td>NaN</td>\n",
       "      <td>NaN</td>\n",
       "      <td>NaN</td>\n",
       "      <td>13.0</td>\n",
       "    </tr>\n",
       "    <tr>\n",
       "      <th>46</th>\n",
       "      <td>2022-11</td>\n",
       "      <td>6302A</td>\n",
       "      <td>NaN</td>\n",
       "      <td>NaN</td>\n",
       "      <td>NaN</td>\n",
       "      <td>NaN</td>\n",
       "      <td>NaN</td>\n",
       "      <td>NaN</td>\n",
       "      <td>6.0</td>\n",
       "    </tr>\n",
       "    <tr>\n",
       "      <th>47</th>\n",
       "      <td>2022-12</td>\n",
       "      <td>6302A</td>\n",
       "      <td>44.4</td>\n",
       "      <td>21.3(09)</td>\n",
       "      <td>4.0</td>\n",
       "      <td>12.9</td>\n",
       "      <td>18.4</td>\n",
       "      <td>7.3</td>\n",
       "      <td>7.0</td>\n",
       "    </tr>\n",
       "    <tr>\n",
       "      <th>0</th>\n",
       "      <td>2019-1</td>\n",
       "      <td>1387</td>\n",
       "      <td>109.2</td>\n",
       "      <td>20.6(19)</td>\n",
       "      <td>14.0</td>\n",
       "      <td>10.2</td>\n",
       "      <td>12.8</td>\n",
       "      <td>7.6</td>\n",
       "      <td>NaN</td>\n",
       "    </tr>\n",
       "    <tr>\n",
       "      <th>1</th>\n",
       "      <td>2019-2</td>\n",
       "      <td>1387</td>\n",
       "      <td>48.0</td>\n",
       "      <td>18.6(17)</td>\n",
       "      <td>11.0</td>\n",
       "      <td>12.8</td>\n",
       "      <td>16.5</td>\n",
       "      <td>9.1</td>\n",
       "      <td>NaN</td>\n",
       "    </tr>\n",
       "  </tbody>\n",
       "</table>\n",
       "</div>"
      ],
      "text/plain": [
       "      fecha indicativo  p_mes     p_max  w_med  tm_mes  tm_max  tm_min  n_cub\n",
       "0    2019-1      6302A    4.7   2.4(19)    7.0     NaN     NaN     NaN    NaN\n",
       "1    2019-2      6302A    4.2   4.1(01)    NaN     NaN     NaN     NaN    NaN\n",
       "2    2019-3      6302A    6.2   3.0(30)    NaN     NaN     NaN     NaN    NaN\n",
       "3    2019-4      6302A   53.1  17.0(18)    8.0    13.5    19.1     7.8    NaN\n",
       "4    2019-5      6302A    3.9   3.9(03)    8.0    19.4    25.7    13.1    NaN\n",
       "5    2019-6      6302A    2.2   2.2(13)   11.0     NaN     NaN     NaN    NaN\n",
       "6    2019-7      6302A    0.3   0.3(07)   11.0    26.4    32.8    19.9    NaN\n",
       "7    2019-8      6302A    1.9   1.8(31)   10.0    26.2    32.6    19.7    NaN\n",
       "8    2019-9      6302A   44.6  28.5(12)    7.0    22.1    27.7    16.6    NaN\n",
       "9   2019-10      6302A   10.9   4.8(19)    5.0    18.8    24.8    12.7    NaN\n",
       "10  2019-11      6302A   18.5   8.9(17)    8.0    12.3    16.8     7.7    NaN\n",
       "11  2019-12      6302A   20.9  12.1(02)    6.0    12.1    17.3     6.9    NaN\n",
       "12   2020-1      6302A   21.3   6.6(20)    5.0     9.6    14.9     4.2    NaN\n",
       "13   2020-2      6302A    0.0   0.0(--)    5.0    13.7    20.1     7.2    NaN\n",
       "14   2020-3      6302A   31.7   8.5(23)    8.0    13.2    18.5     7.9    NaN\n",
       "15   2020-4      6302A   34.5  12.1(13)    8.0    13.9    18.7     9.0    NaN\n",
       "16   2020-5      6302A   11.1   8.6(12)    9.0    20.0    26.1    13.9    NaN\n",
       "17   2020-6      6302A    0.0   0.0(--)    9.0    23.1    29.5    16.6    NaN\n",
       "18   2020-7      6302A    0.0   0.0(--)   11.0     NaN     NaN     NaN    NaN\n",
       "19   2020-8      6302A    0.7   0.7(01)   10.0    26.9    33.4    20.3    NaN\n",
       "20   2020-9      6302A   10.4   6.2(18)    9.0    21.9    28.1    15.7    NaN\n",
       "21  2020-10      6302A    6.2   2.9(22)    7.0    17.2    23.8    10.6    NaN\n",
       "22  2020-11      6302A   75.8  37.8(05)    6.0    13.9    19.2     8.6    NaN\n",
       "23  2020-12      6302A    2.8   1.6(08)    7.0    10.5    15.8     5.1    NaN\n",
       "24   2021-1      6302A   53.2  23.6(08)    7.0     9.8    15.1     4.6    NaN\n",
       "25   2021-2      6302A    7.9   4.2(21)    6.0    12.5    18.1     6.9    NaN\n",
       "26   2021-3      6302A   21.8  13.9(06)    5.0    12.4    18.0     6.7    NaN\n",
       "27   2021-4      6302A   45.9  13.5(15)    5.0    14.3    19.4     9.1    NaN\n",
       "28   2021-5      6302A   38.8  21.8(23)    6.0    18.8    25.3    12.3    NaN\n",
       "29   2021-6      6302A   21.5  10.0(05)    8.0    22.5    28.9    16.0    NaN\n",
       "30   2021-7      6302A    0.6   0.6(26)    8.0    27.0    33.9    20.0    NaN\n",
       "31   2021-8      6302A    0.5   0.3(16)    8.0    26.7    32.9    20.4    NaN\n",
       "32   2021-9      6302A    4.4   2.2(24)    8.0     NaN     NaN     NaN    NaN\n",
       "33  2021-10      6302A    4.5   4.2(22)    6.0    18.2    23.9    12.5    2.0\n",
       "34  2021-11      6302A   16.3   7.0(20)    8.0    11.4    16.4     6.3    4.0\n",
       "35  2021-12      6302A    4.4   2.9(24)    8.0    11.7    16.9     6.5    5.0\n",
       "36   2022-1      6302A   11.0   5.8(26)    7.0     9.3    14.6     3.9    4.0\n",
       "37   2022-2      6302A    8.3   5.9(24)    7.0    11.5    17.5     5.5    5.0\n",
       "38   2022-3      6302A  116.9  25.5(24)    8.0    10.9    15.1     6.6   17.0\n",
       "39   2022-4      6302A   60.4  25.7(05)    7.0    13.4    18.9     7.9   11.0\n",
       "40   2022-5      6302A    NaN       NaN    NaN     NaN     NaN     NaN    4.0\n",
       "41   2022-6      6302A    NaN       NaN    8.0     NaN     NaN     NaN    2.0\n",
       "42   2022-7      6302A    0.0   0.0(--)    9.0    26.6    33.2    19.9    0.0\n",
       "43   2022-8      6302A    8.8   4.4(30)    9.0    26.1    32.8    19.3    3.0\n",
       "44   2022-9      6302A    5.6   1.6(12)    NaN     NaN     NaN     NaN    5.0\n",
       "45  2022-10      6302A    NaN       NaN    5.0     NaN     NaN     NaN   13.0\n",
       "46  2022-11      6302A    NaN       NaN    NaN     NaN     NaN     NaN    6.0\n",
       "47  2022-12      6302A   44.4  21.3(09)    4.0    12.9    18.4     7.3    7.0\n",
       "0    2019-1       1387  109.2  20.6(19)   14.0    10.2    12.8     7.6    NaN\n",
       "1    2019-2       1387   48.0  18.6(17)   11.0    12.8    16.5     9.1    NaN"
      ]
     },
     "execution_count": 58,
     "metadata": {},
     "output_type": "execute_result"
    }
   ],
   "source": [
    "tabla_clima.head(50)"
   ]
  },
  {
   "cell_type": "code",
   "execution_count": 59,
   "id": "b439b01f",
   "metadata": {},
   "outputs": [],
   "source": [
    "tabla_clima.to_csv('../data/tablas_limpias/tabla_clima.csv', index=False)"
   ]
  },
  {
   "cell_type": "code",
   "execution_count": null,
   "id": "89aede57",
   "metadata": {},
   "outputs": [],
   "source": []
  }
 ],
 "metadata": {
  "kernelspec": {
   "display_name": "Python 3 (ipykernel)",
   "language": "python",
   "name": "python3"
  },
  "language_info": {
   "codemirror_mode": {
    "name": "ipython",
    "version": 3
   },
   "file_extension": ".py",
   "mimetype": "text/x-python",
   "name": "python",
   "nbconvert_exporter": "python",
   "pygments_lexer": "ipython3",
   "version": "3.10.9"
  }
 },
 "nbformat": 4,
 "nbformat_minor": 5
}
